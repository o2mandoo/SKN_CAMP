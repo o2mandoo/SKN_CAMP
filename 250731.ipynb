{
 "cells": [
  {
   "cell_type": "code",
   "execution_count": 1,
   "id": "019ffe73",
   "metadata": {},
   "outputs": [
    {
     "name": "stdout",
     "output_type": "stream",
     "text": [
      "Collecting pytube\n",
      "  Downloading pytube-15.0.0-py3-none-any.whl.metadata (5.0 kB)\n",
      "Downloading pytube-15.0.0-py3-none-any.whl (57 kB)\n",
      "Installing collected packages: pytube\n",
      "Successfully installed pytube-15.0.0\n",
      "Note: you may need to restart the kernel to use updated packages.\n"
     ]
    }
   ],
   "source": [
    "pip install pytube\n"
   ]
  },
  {
   "cell_type": "code",
   "execution_count": 5,
   "id": "7744ab65",
   "metadata": {},
   "outputs": [],
   "source": [
    "from pytube import YouTube"
   ]
  },
  {
   "cell_type": "code",
   "execution_count": 6,
   "id": "73da032e",
   "metadata": {},
   "outputs": [],
   "source": [
    "yt= YouTube(\"https://www.youtube.com/watch?v=286SRNds5hs\")"
   ]
  },
  {
   "cell_type": "markdown",
   "id": "4834ccf5",
   "metadata": {},
   "source": [
    "LLM - langchain- embedding"
   ]
  },
  {
   "cell_type": "markdown",
   "id": "c22897d0",
   "metadata": {},
   "source": [
    "임베딩"
   ]
  },
  {
   "cell_type": "code",
   "execution_count": 7,
   "id": "8d1c5435",
   "metadata": {},
   "outputs": [],
   "source": [
    "from langchain_openai import OpenAIEmbeddings\n",
    "\n",
    "\n",
    "embeddings = OpenAIEmbeddings(model=\"text-embedding-3-small\") #\n",
    "\n",
    "text = \"임베딩 테스트를 하기 위한 샘플 문장입니다.\""
   ]
  },
  {
   "cell_type": "code",
   "execution_count": 10,
   "id": "70049dfb",
   "metadata": {},
   "outputs": [
    {
     "name": "stdout",
     "output_type": "stream",
     "text": [
      "1024\n",
      "1536\n"
     ]
    }
   ],
   "source": [
    "query_result = embeddings.embed_query(text)\n",
    "\n",
    "\n",
    "doc_result = embeddings.embed_documents([text, text, text, text])\n",
    "\n",
    "\n",
    "\n",
    "\n",
    "\n",
    "embeddings_1024 = OpenAIEmbeddings(model=\"text-embedding-3-small\", dimensions=1024)\n",
    "embeddings_original = OpenAIEmbeddings(model=\"text-embedding-3-small\")\n",
    "\n",
    "len_1024 = embeddings_1024.embed_documents([text])\n",
    "len_original = embeddings_original.embed_documents([text])\n",
    "\n",
    "\n",
    "print(len(len_1024[0]))\n",
    "print(len(len_original[0]))\n"
   ]
  },
  {
   "cell_type": "code",
   "execution_count": 11,
   "id": "e582cae7",
   "metadata": {},
   "outputs": [],
   "source": [
    "from sklearn.metrics.pairwise import cosine_similarity"
   ]
  },
  {
   "cell_type": "code",
   "execution_count": 13,
   "id": "f14ad60e",
   "metadata": {},
   "outputs": [],
   "source": [
    "from sklearn.metrics.pairwise import cosine_similarity\n",
    "\n",
    "sentence1 = \"안녕하세요? 반갑습니다.\"\n",
    "sentence2 = \"안녕하세요? 반갑습니다!\"\n",
    "sentence3 = \"안녕하세요? 만나서 반가워요.\"\n",
    "sentence4 = \"Hi, nice to meet you.\"\n",
    "sentence5 = \"I like to eat apples.\"\n",
    "\n",
    "def similarity(a, b):\n",
    "    return cosine_similarity([a], [b]) #"
   ]
  },
  {
   "cell_type": "markdown",
   "id": "5fabc990",
   "metadata": {},
   "source": [
    "캐시 기능을 포함한 임베딩"
   ]
  },
  {
   "cell_type": "code",
   "execution_count": 14,
   "id": "8eae952a",
   "metadata": {},
   "outputs": [
    {
     "name": "stderr",
     "output_type": "stream",
     "text": [
      "/home/sunsnu/miniconda3/envs/openai/lib/python3.12/site-packages/langchain/embeddings/cache.py:58: UserWarning: Using default key encoder: SHA‑1 is *not* collision‑resistant. While acceptable for most cache scenarios, a motivated attacker can craft two different payloads that map to the same cache key. If that risk matters in your environment, supply a stronger encoder (e.g. SHA‑256 or BLAKE2) via the `key_encoder` argument. If you change the key encoder, consider also creating a new cache, to avoid (the potential for) collisions with existing keys.\n",
      "  _warn_about_sha1_encoder()\n"
     ]
    }
   ],
   "source": [
    "from langchain.storage import LocalFileStore\n",
    "from langchain_openai import OpenAIEmbeddings\n",
    "from langchain.embeddings import CacheBackedEmbeddings\n",
    "from langchain_community.vectorstores.faiss import FAISS\n",
    "from langchain_community.document_loaders import TextLoader\n",
    "from langchain_text_splitters import CharacterTextSplitter\n",
    "\n",
    "\n",
    "embedding = OpenAIEmbeddings()\n",
    "store = LocalFileStore(\"./cache/\")\n",
    "\n",
    "cached_embedder = CacheBackedEmbeddings.from_bytes_store(\n",
    "    underlying_embeddings=embedding, # 기본 임베딩 모델 지정\n",
    "    document_embedding_cache=store, # 로컬 저장소 지정\n",
    "    namespace=embedding.model, # 임베딩 값 구분자 (생략 가능)\n",
    ")\n"
   ]
  },
  {
   "cell_type": "code",
   "execution_count": 16,
   "id": "0baf17d9",
   "metadata": {},
   "outputs": [],
   "source": [
    "from langchain_community.document_loaders import UnstructuredFileLoader\n",
    "from langchain.text_splitter import RecursiveCharacterTextSplitter\n",
    "\n",
    "\n",
    "loader = UnstructuredFileLoader(\"./ADsP - 정리.docx\")\n",
    "documents = loader.load()\n",
    "text_splitter = RecursiveCharacterTextSplitter(chunk_size=1000, chunk_overlap=200)\n",
    "\n",
    "documents_spliter = text_splitter.split_documents(documents) #\n",
    "\n"
   ]
  },
  {
   "cell_type": "code",
   "execution_count": 17,
   "id": "a231d1f0",
   "metadata": {},
   "outputs": [
    {
     "name": "stdout",
     "output_type": "stream",
     "text": [
      "CPU times: user 72.7 ms, sys: 25.7 ms, total: 98.4 ms\n",
      "Wall time: 1.67 s\n",
      "CPU times: user 7.64 ms, sys: 3.88 ms, total: 11.5 ms\n",
      "Wall time: 11.5 ms\n"
     ]
    }
   ],
   "source": [
    "%time db = FAISS.from_documents(documents_spliter, cached_embedder)\n",
    "%time db2 = FAISS.from_documents(documents_spliter, cached_embedder) #"
   ]
  },
  {
   "cell_type": "code",
   "execution_count": 21,
   "id": "b0c61bf2",
   "metadata": {},
   "outputs": [],
   "source": [
    "from langchain_huggingface.embeddings import HuggingFaceEmbeddings\n",
    "\n",
    "\n",
    "\n",
    "model_name_local = \"intfloat/multilingual-e5-large-instruct\" #\n",
    "hf_embeddings_local = HuggingFaceEmbeddings(\n",
    "    model_name=model_name_local,\n",
    "    model_kwargs={\"device\": \"cuda\"}, # GPU가 없다면 \"cpu\", 맥북은 \"mps\", 엔비디아 GPU는 \"cuda\"\n",
    "    encode_kwargs={\"normalize_embeddings\": True}, #\n",
    ")\n"
   ]
  },
  {
   "cell_type": "code",
   "execution_count": 22,
   "id": "58985934",
   "metadata": {},
   "outputs": [],
   "source": [
    "import os\n",
    "os.environ[\"HF_HOME\"] = \"./cache2/\"\n",
    "\n",
    "\n",
    "texts = [ \n",
    "    \"안녕, 만나서 반가워.\",\n",
    "    \"LangChain simplifies the process of building applications with large language models\",\n",
    "    \"랭체인 한국어 튜토리얼은 LangChain의 공식 문서, cookbook 및 다양한 실용 예제를 바탕으로 하여 사용자가 LangChain을 더 쉽고 효과적으로 활용할 수 있도록 구성되어 있습니다.\",\n",
    "    \"LangChain은 초거대 언어모델로 애플리케이션을 구축하는 과정을 단순화합니다.\",\n",
    "    \"Retrieval-Augmented Generation (RAG) is an effective technique for improving AI responses.\",\n",
    "]\n"
   ]
  },
  {
   "cell_type": "code",
   "execution_count": 23,
   "id": "21fbc4f5",
   "metadata": {},
   "outputs": [
    {
     "name": "stdout",
     "output_type": "stream",
     "text": [
      "\n",
      "--- HuggingFaceEmbeddings 문서 임베딩 (로컬 다운로드) ---\n",
      "CPU times: user 422 ms, sys: 79 ms, total: 501 ms\n",
      "Wall time: 584 ms\n",
      "Model: intfloat/multilingual-e5-large-instruct\n",
      "Dimension: 5\n"
     ]
    }
   ],
   "source": [
    "print(\"\\n--- HuggingFaceEmbeddings 문서 임베딩 (로컬 다운로드) ---\")\n",
    "%time embedded_documents_local = hf_embeddings_local.embed_documents(texts) #\n",
    "print(f\"Model: {model_name_local}\") #\n",
    "print(f\"Dimension: {len(embedded_documents_local)}\") # (출력: 1024)\n"
   ]
  },
  {
   "cell_type": "code",
   "execution_count": 25,
   "id": "dffc9e43",
   "metadata": {},
   "outputs": [
    {
     "name": "stdout",
     "output_type": "stream",
     "text": [
      "\n",
      "--- BGE-M3 임베딩 ---\n",
      "CPU times: user 38.9 ms, sys: 5.23 ms, total: 44.1 ms\n",
      "Wall time: 43.4 ms\n",
      "Model: BAAI/bge-m3\n",
      "Dimension: 5\n"
     ]
    }
   ],
   "source": [
    "texts = [ #\n",
    "    \"안녕, 만나서 반가워.\",\n",
    "    \"LangChain simplifies the process of building applications with large language models\",\n",
    "    \"랭체인 한국어 튜토리얼은 LangChain의 공식 문서, cookbook 및 다양한 실용 예제를 바탕으로 하여 사용자가 LangChain을 더 쉽고 효과적으로 활용할 수 있도록 구성되어 있습니다.\",\n",
    "    \"LangChain은 초거대 언어모델로 애플리케이션을 구축하는 과정을 단순화합니다.\",\n",
    "    \"Retrieval-Augmented Generation (RAG) is an effective technique for improving AI responses.\",\n",
    "]\n",
    "\n",
    "\n",
    "model_name_bge = \"BAAI/bge-m3\" #\n",
    "model_kwargs_bge = {\"device\": \"cuda\"} #\n",
    "encode_kwargs_bge = {\"normalize_embeddings\": True} #\n",
    "\n",
    "\n",
    "hf_embeddings_bge = HuggingFaceEmbeddings(\n",
    "    model_name=model_name_bge,\n",
    "    model_kwargs=model_kwargs_bge,\n",
    "    encode_kwargs=encode_kwargs_bge\n",
    ") #\n",
    "\n",
    "\n",
    "print(\"\\n--- BGE-M3 임베딩 ---\")\n",
    "%time embedded_documents_bge = hf_embeddings_bge.embed_documents(texts) #\n",
    "print(f\"Model: {model_name_bge}\") #\n",
    "print(f\"Dimension: {len(embedded_documents_bge)}\") # (출력: 1024)\n"
   ]
  },
  {
   "cell_type": "markdown",
   "id": "b748d85c",
   "metadata": {},
   "source": [
    "ollama pull nomic-embed-text\n"
   ]
  },
  {
   "cell_type": "code",
   "execution_count": 28,
   "id": "c7c564dc",
   "metadata": {},
   "outputs": [
    {
     "name": "stdout",
     "output_type": "stream",
     "text": [
      "Ollama 쿼리 임베딩 차원: 768\n"
     ]
    }
   ],
   "source": [
    "# ollama pull nomic-embed-text\n",
    "\n",
    "from langchain_community.embeddings import OllamaEmbeddings\n",
    "ollama_embeddings = OllamaEmbeddings(model=\"nomic-embed-text\") #\n",
    "\n",
    "query_text_ollama = \"LangChain에 대해서 상세히 알려 주세요.\"\n",
    "embedded_query_ollama = ollama_embeddings.embed_query(query_text_ollama) #\n",
    "print(f\"Ollama 쿼리 임베딩 차원: {len(embedded_query_ollama)}\") # (출력: 768)"
   ]
  },
  {
   "cell_type": "markdown",
   "id": "6bc539f0",
   "metadata": {},
   "source": [
    "pytube를 이용한 유튜브 영상 활용"
   ]
  },
  {
   "cell_type": "code",
   "execution_count": null,
   "id": "f3c90860",
   "metadata": {},
   "outputs": [],
   "source": [
    "from pytubefix import YouTube\n",
    "from openai import OpenAI\n",
    "\n",
    "url = \"https://www.youtube.com/watch?v=O-ZfXbfAMKU\"\n"
   ]
  },
  {
   "cell_type": "code",
   "execution_count": null,
   "id": "d00d338f",
   "metadata": {},
   "outputs": [],
   "source": []
  }
 ],
 "metadata": {
  "kernelspec": {
   "display_name": "openai",
   "language": "python",
   "name": "python3"
  },
  "language_info": {
   "codemirror_mode": {
    "name": "ipython",
    "version": 3
   },
   "file_extension": ".py",
   "mimetype": "text/x-python",
   "name": "python",
   "nbconvert_exporter": "python",
   "pygments_lexer": "ipython3",
   "version": "3.12.11"
  }
 },
 "nbformat": 4,
 "nbformat_minor": 5
}
