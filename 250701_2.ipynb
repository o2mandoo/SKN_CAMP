{
  "nbformat": 4,
  "nbformat_minor": 0,
  "metadata": {
    "colab": {
      "provenance": [],
      "gpuType": "T4",
      "authorship_tag": "ABX9TyO9XEoaY/qzo6ODh9vBRdr6",
      "include_colab_link": true
    },
    "kernelspec": {
      "name": "python3",
      "display_name": "Python 3"
    },
    "language_info": {
      "name": "python"
    },
    "accelerator": "GPU"
  },
  "cells": [
    {
      "cell_type": "markdown",
      "metadata": {
        "id": "view-in-github",
        "colab_type": "text"
      },
      "source": [
        "<a href=\"https://colab.research.google.com/github/sunsnu/SKN_CAMP/blob/main/250701_2.ipynb\" target=\"_parent\"><img src=\"https://colab.research.google.com/assets/colab-badge.svg\" alt=\"Open In Colab\"/></a>"
      ]
    },
    {
      "cell_type": "code",
      "execution_count": 4,
      "metadata": {
        "id": "r1ntLZlUstK7"
      },
      "outputs": [],
      "source": [
        "''' 1. Module Import '''\n",
        "import numpy as np\n",
        "import matplotlib.pyplot as plt\n",
        "\n",
        "import torch\n",
        "import torch.nn as nn\n",
        "import torch.nn.functional as F\n",
        "from torchvision import transforms, datasets\n"
      ]
    },
    {
      "cell_type": "code",
      "source": [
        "''' 2. 딥러닝 모델을 설계할 때 활용하는 장비 확인 '''\n",
        "if torch.cuda.is_available():\n",
        "    DEVICE = torch.device('cuda')\n",
        "else:\n",
        "    DEVICE = torch.device('cpu')\n",
        "print('Using PyTorch version:', torch.__version__, ' Device:', DEVICE)\n"
      ],
      "metadata": {
        "colab": {
          "base_uri": "https://localhost:8080/"
        },
        "id": "_hT8YHVZtBMi",
        "outputId": "7fdeec13-b5ed-4a17-83a7-b1f1030ec29c"
      },
      "execution_count": 5,
      "outputs": [
        {
          "output_type": "stream",
          "name": "stdout",
          "text": [
            "Using PyTorch version: 2.6.0+cu124  Device: cuda\n"
          ]
        }
      ]
    },
    {
      "cell_type": "markdown",
      "source": [
        "https://drive.google.com/drive/folders/0B7EVK8r0v71pWEZsZE9oNnFzTm8?resourcekey=0-5BR16BdXnb8hVj6CNHKzLg"
      ],
      "metadata": {
        "id": "5H-C7nxWtD5E"
      }
    },
    {
      "cell_type": "code",
      "source": [
        "import torchvision.models as models\n",
        "model = models.resnet18(pretrained=True)"
      ],
      "metadata": {
        "id": "ZxToAffJtCkm",
        "colab": {
          "base_uri": "https://localhost:8080/"
        },
        "outputId": "e3a32171-6280-4d96-fb4f-32bf26f97f89"
      },
      "execution_count": 6,
      "outputs": [
        {
          "output_type": "stream",
          "name": "stderr",
          "text": [
            "/usr/local/lib/python3.11/dist-packages/torchvision/models/_utils.py:223: UserWarning: Arguments other than a weight enum or `None` for 'weights' are deprecated since 0.13 and may be removed in the future. The current behavior is equivalent to passing `weights=ResNet18_Weights.IMAGENET1K_V1`. You can also use `weights=ResNet18_Weights.DEFAULT` to get the most up-to-date weights.\n",
            "  warnings.warn(msg)\n",
            "Downloading: \"https://download.pytorch.org/models/resnet18-f37072fd.pth\" to /root/.cache/torch/hub/checkpoints/resnet18-f37072fd.pth\n",
            "100%|██████████| 44.7M/44.7M [00:00<00:00, 71.1MB/s]\n"
          ]
        }
      ]
    },
    {
      "cell_type": "code",
      "source": [
        "pip install torchinfo"
      ],
      "metadata": {
        "colab": {
          "base_uri": "https://localhost:8080/"
        },
        "id": "AuQCaFtn0hSW",
        "outputId": "2303f6b6-b331-47a5-8dfa-b93ad4a69ad7"
      },
      "execution_count": 7,
      "outputs": [
        {
          "output_type": "stream",
          "name": "stdout",
          "text": [
            "Collecting torchinfo\n",
            "  Downloading torchinfo-1.8.0-py3-none-any.whl.metadata (21 kB)\n",
            "Downloading torchinfo-1.8.0-py3-none-any.whl (23 kB)\n",
            "Installing collected packages: torchinfo\n",
            "Successfully installed torchinfo-1.8.0\n"
          ]
        }
      ]
    },
    {
      "cell_type": "code",
      "source": [
        "from torchinfo import summary\n"
      ],
      "metadata": {
        "id": "HBplYq2d1l5B"
      },
      "execution_count": 8,
      "outputs": []
    },
    {
      "cell_type": "code",
      "source": [
        "summary(model)"
      ],
      "metadata": {
        "colab": {
          "base_uri": "https://localhost:8080/"
        },
        "id": "LeBSzeBL1mzL",
        "outputId": "133c96b2-bfb7-4ffa-d724-4ffc3646badd"
      },
      "execution_count": 9,
      "outputs": [
        {
          "output_type": "execute_result",
          "data": {
            "text/plain": [
              "=================================================================\n",
              "Layer (type:depth-idx)                   Param #\n",
              "=================================================================\n",
              "ResNet                                   --\n",
              "├─Conv2d: 1-1                            9,408\n",
              "├─BatchNorm2d: 1-2                       128\n",
              "├─ReLU: 1-3                              --\n",
              "├─MaxPool2d: 1-4                         --\n",
              "├─Sequential: 1-5                        --\n",
              "│    └─BasicBlock: 2-1                   --\n",
              "│    │    └─Conv2d: 3-1                  36,864\n",
              "│    │    └─BatchNorm2d: 3-2             128\n",
              "│    │    └─ReLU: 3-3                    --\n",
              "│    │    └─Conv2d: 3-4                  36,864\n",
              "│    │    └─BatchNorm2d: 3-5             128\n",
              "│    └─BasicBlock: 2-2                   --\n",
              "│    │    └─Conv2d: 3-6                  36,864\n",
              "│    │    └─BatchNorm2d: 3-7             128\n",
              "│    │    └─ReLU: 3-8                    --\n",
              "│    │    └─Conv2d: 3-9                  36,864\n",
              "│    │    └─BatchNorm2d: 3-10            128\n",
              "├─Sequential: 1-6                        --\n",
              "│    └─BasicBlock: 2-3                   --\n",
              "│    │    └─Conv2d: 3-11                 73,728\n",
              "│    │    └─BatchNorm2d: 3-12            256\n",
              "│    │    └─ReLU: 3-13                   --\n",
              "│    │    └─Conv2d: 3-14                 147,456\n",
              "│    │    └─BatchNorm2d: 3-15            256\n",
              "│    │    └─Sequential: 3-16             8,448\n",
              "│    └─BasicBlock: 2-4                   --\n",
              "│    │    └─Conv2d: 3-17                 147,456\n",
              "│    │    └─BatchNorm2d: 3-18            256\n",
              "│    │    └─ReLU: 3-19                   --\n",
              "│    │    └─Conv2d: 3-20                 147,456\n",
              "│    │    └─BatchNorm2d: 3-21            256\n",
              "├─Sequential: 1-7                        --\n",
              "│    └─BasicBlock: 2-5                   --\n",
              "│    │    └─Conv2d: 3-22                 294,912\n",
              "│    │    └─BatchNorm2d: 3-23            512\n",
              "│    │    └─ReLU: 3-24                   --\n",
              "│    │    └─Conv2d: 3-25                 589,824\n",
              "│    │    └─BatchNorm2d: 3-26            512\n",
              "│    │    └─Sequential: 3-27             33,280\n",
              "│    └─BasicBlock: 2-6                   --\n",
              "│    │    └─Conv2d: 3-28                 589,824\n",
              "│    │    └─BatchNorm2d: 3-29            512\n",
              "│    │    └─ReLU: 3-30                   --\n",
              "│    │    └─Conv2d: 3-31                 589,824\n",
              "│    │    └─BatchNorm2d: 3-32            512\n",
              "├─Sequential: 1-8                        --\n",
              "│    └─BasicBlock: 2-7                   --\n",
              "│    │    └─Conv2d: 3-33                 1,179,648\n",
              "│    │    └─BatchNorm2d: 3-34            1,024\n",
              "│    │    └─ReLU: 3-35                   --\n",
              "│    │    └─Conv2d: 3-36                 2,359,296\n",
              "│    │    └─BatchNorm2d: 3-37            1,024\n",
              "│    │    └─Sequential: 3-38             132,096\n",
              "│    └─BasicBlock: 2-8                   --\n",
              "│    │    └─Conv2d: 3-39                 2,359,296\n",
              "│    │    └─BatchNorm2d: 3-40            1,024\n",
              "│    │    └─ReLU: 3-41                   --\n",
              "│    │    └─Conv2d: 3-42                 2,359,296\n",
              "│    │    └─BatchNorm2d: 3-43            1,024\n",
              "├─AdaptiveAvgPool2d: 1-9                 --\n",
              "├─Linear: 1-10                           513,000\n",
              "=================================================================\n",
              "Total params: 11,689,512\n",
              "Trainable params: 11,689,512\n",
              "Non-trainable params: 0\n",
              "================================================================="
            ]
          },
          "metadata": {},
          "execution_count": 9
        }
      ]
    },
    {
      "cell_type": "code",
      "source": [
        "model.fc.in_features\n"
      ],
      "metadata": {
        "colab": {
          "base_uri": "https://localhost:8080/"
        },
        "id": "8QS-KzIH1vWu",
        "outputId": "d59d9cf9-9827-4472-da85-294a5f095fbd"
      },
      "execution_count": 10,
      "outputs": [
        {
          "output_type": "execute_result",
          "data": {
            "text/plain": [
              "512"
            ]
          },
          "metadata": {},
          "execution_count": 10
        }
      ]
    },
    {
      "cell_type": "code",
      "source": [
        "num_ftrs = model.fc.in_features\n"
      ],
      "metadata": {
        "id": "t7FkAkzd2GI9"
      },
      "execution_count": 11,
      "outputs": []
    },
    {
      "cell_type": "code",
      "source": [
        "import torchvision.models as models\n",
        "model = models.resnet34(pretrained = True)\n",
        "num_ftrs = model.fc.in_features\n",
        "model.fc = nn.Linear(num_ftrs, 10)\n",
        "model = model.cuda()"
      ],
      "metadata": {
        "id": "4Dc0IaxS2okI"
      },
      "execution_count": 12,
      "outputs": []
    },
    {
      "cell_type": "code",
      "source": [
        "BATCH_SIZE = 32\n",
        "EPOCHS = 10\n"
      ],
      "metadata": {
        "id": "4f65YoqV38ia"
      },
      "execution_count": 3,
      "outputs": []
    },
    {
      "cell_type": "code",
      "source": [
        "''' 3. Data Augmentation이 적용된 CIFAR10 데이터 다운로드 (Train set, Test set 분리하기) '''\n",
        "train_dataset = datasets.CIFAR10(root = \"../data/CIFAR_10\",\n",
        "                                  train = True,\n",
        "                                  download = True,\n",
        "                                  transform = transforms.Compose([\n",
        "                                    transforms.RandomHorizontalFlip(),\n",
        "                                    transforms.ToTensor(),\n",
        "                                    transforms.Normalize((0.5, 0.5, 0.5), (0.5, 0.5, 0.5))]))\n",
        "\n",
        "test_dataset = datasets.CIFAR10(root = \"../data/CIFAR_10\",\n",
        "                                train = False,\n",
        "                                transform = transforms.Compose([\n",
        "                                    transforms.RandomHorizontalFlip(),\n",
        "                                    transforms.ToTensor(),\n",
        "                                    transforms.Normalize((0.5, 0.5, 0.5), (0.5, 0.5, 0.5))]))\n",
        "\n",
        "train_loader = torch.utils.data.DataLoader(dataset = train_dataset,\n",
        "                                            batch_size = BATCH_SIZE,\n",
        "                                            shuffle = True)\n",
        "\n",
        "test_loader = torch.utils.data.DataLoader(dataset = test_dataset,\n",
        "                                          batch_size = BATCH_SIZE,\n",
        "                                          shuffle = False)\n"
      ],
      "metadata": {
        "colab": {
          "base_uri": "https://localhost:8080/"
        },
        "id": "iYzC5Cc-3mI7",
        "outputId": "5a5a873e-307b-48a8-b41c-d458aca21dd4"
      },
      "execution_count": 13,
      "outputs": [
        {
          "output_type": "stream",
          "name": "stderr",
          "text": [
            "100%|██████████| 170M/170M [00:04<00:00, 39.6MB/s]\n"
          ]
        }
      ]
    },
    {
      "cell_type": "code",
      "source": [
        "optimizer = torch.optim.Adam(model.parameters(), lr = 0.001)\n",
        "criterion = nn.CrossEntropyLoss()\n"
      ],
      "metadata": {
        "id": "hnc6T4043oCS"
      },
      "execution_count": 14,
      "outputs": []
    },
    {
      "cell_type": "code",
      "source": [
        "def evaluate(model, test_loader):\n",
        "    model.eval()\n",
        "    test_loss = 0\n",
        "    correct = 0\n",
        "\n",
        "    with torch.no_grad():\n",
        "        for image, label in test_loader:\n",
        "            image = image.to(DEVICE)\n",
        "            label = label.to(DEVICE)\n",
        "            output = model(image)\n",
        "            test_loss += criterion(output, label).item()\n",
        "            prediction = output.max(1, keepdim = True)[1]\n",
        "            correct += prediction.eq(label.view_as(prediction)).sum().item()\n",
        "\n",
        "    test_loss /= (len(test_loader.dataset) / BATCH_SIZE)\n",
        "    test_accuracy = 100. * correct / len(test_loader.dataset)\n",
        "    return test_loss, test_accuracy\n"
      ],
      "metadata": {
        "id": "iFfyEvYB4Onv"
      },
      "execution_count": 15,
      "outputs": []
    },
    {
      "cell_type": "code",
      "source": [
        "for epoch in range(1, EPOCHS + 1):\n",
        "    # train(model, train_loader, optimizer, log_interval = 200)\n",
        "    test_loss, test_accuracy = evaluate(model, test_loader)\n",
        "    print(\"\\n[EPOCH: {}], \\tTest Loss: {:.4f}, \\tTest Accuracy: {:.2f} % \\n\".format(\n",
        "        epoch, test_loss, test_accuracy))\n"
      ],
      "metadata": {
        "id": "ay_a9OSk4Q-N"
      },
      "execution_count": null,
      "outputs": []
    },
    {
      "cell_type": "code",
      "source": [
        "''' 8. 불러온 Resnet34 모델 학습을 진행하며 학습 데이터에 대한 모델 성능을 확인하는 함수 정의 '''\n",
        "def train(model, train_loader, optimizer, log_interval):\n",
        "    model.train()\n",
        "    for batch_idx, (image, label) in enumerate(train_loader):\n",
        "        image = image.to(DEVICE)\n",
        "        label = label.to(DEVICE)\n",
        "        optimizer.zero_grad()\n",
        "        output = model(image)\n",
        "        loss = criterion(output, label)\n",
        "        loss.backward()\n",
        "        optimizer.step()\n",
        "\n",
        "        if batch_idx % log_interval == 0:\n",
        "            print(\"Train Epoch: {} [{}/{} ({:.0f}%)]\\tTrain Loss: {:.6f}\".format(\n",
        "                epoch, batch_idx * len(image),\n",
        "                len(train_loader.dataset), 100. * batch_idx / len(train_loader),\n",
        "                loss.item()))\n"
      ],
      "metadata": {
        "id": "ZNJG6dzI4dMi"
      },
      "execution_count": 16,
      "outputs": []
    },
    {
      "cell_type": "code",
      "source": [
        "for epoch in range(1, EPOCHS + 1):\n",
        "    train(model, train_loader, optimizer, log_interval = 200)\n",
        "    test_loss, test_accuracy = evaluate(model, test_loader)\n",
        "    print(\"\\n[EPOCH: {}], \\tTest Loss: {:.4f}, \\tTest Accuracy: {:.2f} % \\n\".format(\n",
        "        epoch, test_loss, test_accuracy))"
      ],
      "metadata": {
        "colab": {
          "base_uri": "https://localhost:8080/"
        },
        "id": "q1gjR57K5Vm0",
        "outputId": "44a52eee-a336-4295-8bf2-516ad88303c6"
      },
      "execution_count": 17,
      "outputs": [
        {
          "output_type": "stream",
          "name": "stdout",
          "text": [
            "Train Epoch: 1 [0/50000 (0%)]\tTrain Loss: 2.551521\n",
            "Train Epoch: 1 [6400/50000 (13%)]\tTrain Loss: 1.835267\n",
            "Train Epoch: 1 [12800/50000 (26%)]\tTrain Loss: 0.914400\n",
            "Train Epoch: 1 [19200/50000 (38%)]\tTrain Loss: 1.161517\n",
            "Train Epoch: 1 [25600/50000 (51%)]\tTrain Loss: 1.198615\n",
            "Train Epoch: 1 [32000/50000 (64%)]\tTrain Loss: 0.829175\n",
            "Train Epoch: 1 [38400/50000 (77%)]\tTrain Loss: 1.124484\n",
            "Train Epoch: 1 [44800/50000 (90%)]\tTrain Loss: 1.027872\n",
            "\n",
            "[EPOCH: 1], \tTest Loss: 0.8783, \tTest Accuracy: 69.72 % \n",
            "\n",
            "Train Epoch: 2 [0/50000 (0%)]\tTrain Loss: 0.448095\n",
            "Train Epoch: 2 [6400/50000 (13%)]\tTrain Loss: 0.553726\n",
            "Train Epoch: 2 [12800/50000 (26%)]\tTrain Loss: 0.875822\n",
            "Train Epoch: 2 [19200/50000 (38%)]\tTrain Loss: 1.137787\n",
            "Train Epoch: 2 [25600/50000 (51%)]\tTrain Loss: 0.963881\n",
            "Train Epoch: 2 [32000/50000 (64%)]\tTrain Loss: 1.205772\n",
            "Train Epoch: 2 [38400/50000 (77%)]\tTrain Loss: 0.435754\n",
            "Train Epoch: 2 [44800/50000 (90%)]\tTrain Loss: 0.897716\n",
            "\n",
            "[EPOCH: 2], \tTest Loss: 0.8694, \tTest Accuracy: 70.55 % \n",
            "\n",
            "Train Epoch: 3 [0/50000 (0%)]\tTrain Loss: 0.914487\n",
            "Train Epoch: 3 [6400/50000 (13%)]\tTrain Loss: 0.683794\n",
            "Train Epoch: 3 [12800/50000 (26%)]\tTrain Loss: 0.887079\n",
            "Train Epoch: 3 [19200/50000 (38%)]\tTrain Loss: 0.593740\n",
            "Train Epoch: 3 [25600/50000 (51%)]\tTrain Loss: 1.132177\n",
            "Train Epoch: 3 [32000/50000 (64%)]\tTrain Loss: 0.934282\n",
            "Train Epoch: 3 [38400/50000 (77%)]\tTrain Loss: 1.018808\n",
            "Train Epoch: 3 [44800/50000 (90%)]\tTrain Loss: 0.387283\n",
            "\n",
            "[EPOCH: 3], \tTest Loss: 0.6608, \tTest Accuracy: 77.33 % \n",
            "\n",
            "Train Epoch: 4 [0/50000 (0%)]\tTrain Loss: 0.615286\n",
            "Train Epoch: 4 [6400/50000 (13%)]\tTrain Loss: 1.078029\n",
            "Train Epoch: 4 [12800/50000 (26%)]\tTrain Loss: 0.328921\n",
            "Train Epoch: 4 [19200/50000 (38%)]\tTrain Loss: 0.644131\n",
            "Train Epoch: 4 [25600/50000 (51%)]\tTrain Loss: 0.748102\n",
            "Train Epoch: 4 [32000/50000 (64%)]\tTrain Loss: 1.115321\n",
            "Train Epoch: 4 [38400/50000 (77%)]\tTrain Loss: 0.411947\n",
            "Train Epoch: 4 [44800/50000 (90%)]\tTrain Loss: 0.344178\n",
            "\n",
            "[EPOCH: 4], \tTest Loss: 0.6773, \tTest Accuracy: 77.02 % \n",
            "\n",
            "Train Epoch: 5 [0/50000 (0%)]\tTrain Loss: 0.457055\n",
            "Train Epoch: 5 [6400/50000 (13%)]\tTrain Loss: 0.651415\n",
            "Train Epoch: 5 [12800/50000 (26%)]\tTrain Loss: 0.576884\n",
            "Train Epoch: 5 [19200/50000 (38%)]\tTrain Loss: 0.471941\n",
            "Train Epoch: 5 [25600/50000 (51%)]\tTrain Loss: 0.410231\n",
            "Train Epoch: 5 [32000/50000 (64%)]\tTrain Loss: 0.511432\n",
            "Train Epoch: 5 [38400/50000 (77%)]\tTrain Loss: 0.722712\n",
            "Train Epoch: 5 [44800/50000 (90%)]\tTrain Loss: 0.728582\n",
            "\n",
            "[EPOCH: 5], \tTest Loss: 0.6003, \tTest Accuracy: 80.39 % \n",
            "\n",
            "Train Epoch: 6 [0/50000 (0%)]\tTrain Loss: 0.510819\n",
            "Train Epoch: 6 [6400/50000 (13%)]\tTrain Loss: 0.884597\n",
            "Train Epoch: 6 [12800/50000 (26%)]\tTrain Loss: 0.961181\n",
            "Train Epoch: 6 [19200/50000 (38%)]\tTrain Loss: 0.357584\n",
            "Train Epoch: 6 [25600/50000 (51%)]\tTrain Loss: 1.684095\n",
            "Train Epoch: 6 [32000/50000 (64%)]\tTrain Loss: 0.577674\n",
            "Train Epoch: 6 [38400/50000 (77%)]\tTrain Loss: 0.374058\n",
            "Train Epoch: 6 [44800/50000 (90%)]\tTrain Loss: 1.286013\n",
            "\n",
            "[EPOCH: 6], \tTest Loss: 0.9394, \tTest Accuracy: 76.47 % \n",
            "\n",
            "Train Epoch: 7 [0/50000 (0%)]\tTrain Loss: 0.509372\n",
            "Train Epoch: 7 [6400/50000 (13%)]\tTrain Loss: 0.363103\n",
            "Train Epoch: 7 [12800/50000 (26%)]\tTrain Loss: 0.745039\n",
            "Train Epoch: 7 [19200/50000 (38%)]\tTrain Loss: 0.542329\n",
            "Train Epoch: 7 [25600/50000 (51%)]\tTrain Loss: 0.259325\n",
            "Train Epoch: 7 [32000/50000 (64%)]\tTrain Loss: 0.275402\n",
            "Train Epoch: 7 [38400/50000 (77%)]\tTrain Loss: 0.452083\n",
            "Train Epoch: 7 [44800/50000 (90%)]\tTrain Loss: 0.396763\n",
            "\n",
            "[EPOCH: 7], \tTest Loss: 0.5621, \tTest Accuracy: 80.54 % \n",
            "\n",
            "Train Epoch: 8 [0/50000 (0%)]\tTrain Loss: 0.150513\n",
            "Train Epoch: 8 [6400/50000 (13%)]\tTrain Loss: 0.417133\n",
            "Train Epoch: 8 [12800/50000 (26%)]\tTrain Loss: 0.423843\n",
            "Train Epoch: 8 [19200/50000 (38%)]\tTrain Loss: 0.182991\n",
            "Train Epoch: 8 [25600/50000 (51%)]\tTrain Loss: 0.374332\n",
            "Train Epoch: 8 [32000/50000 (64%)]\tTrain Loss: 0.435053\n",
            "Train Epoch: 8 [38400/50000 (77%)]\tTrain Loss: 0.519555\n",
            "Train Epoch: 8 [44800/50000 (90%)]\tTrain Loss: 0.271827\n",
            "\n",
            "[EPOCH: 8], \tTest Loss: 0.6191, \tTest Accuracy: 79.80 % \n",
            "\n",
            "Train Epoch: 9 [0/50000 (0%)]\tTrain Loss: 0.238454\n",
            "Train Epoch: 9 [6400/50000 (13%)]\tTrain Loss: 0.431073\n",
            "Train Epoch: 9 [12800/50000 (26%)]\tTrain Loss: 0.420759\n",
            "Train Epoch: 9 [19200/50000 (38%)]\tTrain Loss: 0.392453\n",
            "Train Epoch: 9 [25600/50000 (51%)]\tTrain Loss: 0.381430\n",
            "Train Epoch: 9 [32000/50000 (64%)]\tTrain Loss: 0.559213\n",
            "Train Epoch: 9 [38400/50000 (77%)]\tTrain Loss: 0.308820\n",
            "Train Epoch: 9 [44800/50000 (90%)]\tTrain Loss: 0.392483\n",
            "\n",
            "[EPOCH: 9], \tTest Loss: 0.9074, \tTest Accuracy: 76.97 % \n",
            "\n",
            "Train Epoch: 10 [0/50000 (0%)]\tTrain Loss: 0.247529\n",
            "Train Epoch: 10 [6400/50000 (13%)]\tTrain Loss: 0.344168\n",
            "Train Epoch: 10 [12800/50000 (26%)]\tTrain Loss: 0.316320\n",
            "Train Epoch: 10 [19200/50000 (38%)]\tTrain Loss: 0.675247\n",
            "Train Epoch: 10 [25600/50000 (51%)]\tTrain Loss: 0.557164\n",
            "Train Epoch: 10 [32000/50000 (64%)]\tTrain Loss: 0.486622\n",
            "Train Epoch: 10 [38400/50000 (77%)]\tTrain Loss: 0.405291\n",
            "Train Epoch: 10 [44800/50000 (90%)]\tTrain Loss: 0.670324\n",
            "\n",
            "[EPOCH: 10], \tTest Loss: 0.9476, \tTest Accuracy: 79.34 % \n",
            "\n"
          ]
        }
      ]
    },
    {
      "cell_type": "code",
      "source": [],
      "metadata": {
        "id": "k0bLH-vs5qih"
      },
      "execution_count": null,
      "outputs": []
    }
  ]
}