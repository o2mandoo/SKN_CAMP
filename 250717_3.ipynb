{
 "cells": [
  {
   "cell_type": "code",
   "execution_count": 2,
   "id": "df64d98c",
   "metadata": {},
   "outputs": [],
   "source": [
    "from langchain_core.prompts.few_shot import FewShotPromptTemplate\n",
    "from langchain_core.prompts import PromptTemplate "
   ]
  },
  {
   "cell_type": "code",
   "execution_count": null,
   "id": "ec20dfb5",
   "metadata": {},
   "outputs": [],
   "source": [
    "from langchain_core.prompts.few_shot import FewShotPromptTemplate\n",
    "\n",
    "LangChain의 Few-Shot Prompt 템플릿 클래스를 불러오는 구문\n",
    "\n",
    "Few-Shot Prompt란: LLM(대형 언어 모델) 입력 시 여러 개의 예시(입출력 쌍 등)를 포함시켜, 모델이 패턴을 쉽게 학습하거나 요구에 맞는 출력 양식을 따르도록 돕는 프롬프트 방식\n",
    "\n",
    "이 클래스를 활용하면 여러 채팅 예시, 번역 예시, 질의응답 예시 등 다양한 입력-출력 쌍을 빠르게 프롬프트에 삽입, 조합하여 구조화할 수 있음\n",
    "\n",
    "from langchain_core.prompts import PromptTemplate\n",
    "\n",
    "LangChain에서 범용적으로 사용하는 텍스트 프롬프트 템플릿 클래스\n",
    "\n",
    "PromptTemplate은 사용자 입력, 변수, 문맥 등을 템플릿 안에서 동적으로 치환/조합하여 LLM에 최적화된 입력 포맷을 생성하는 데 사용\n",
    "\n",
    "ex) \"Translate the following sentence to English: {sentence}\" 같은 형식에 변수 넣기 등 실무에서 매우 자주 활용"
   ]
  }
 ],
 "metadata": {
  "kernelspec": {
   "display_name": "openai",
   "language": "python",
   "name": "python3"
  },
  "language_info": {
   "codemirror_mode": {
    "name": "ipython",
    "version": 3
   },
   "file_extension": ".py",
   "mimetype": "text/x-python",
   "name": "python",
   "nbconvert_exporter": "python",
   "pygments_lexer": "ipython3",
   "version": "3.12.11"
  }
 },
 "nbformat": 4,
 "nbformat_minor": 5
}
