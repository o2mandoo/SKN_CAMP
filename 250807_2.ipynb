{
 "cells": [
  {
   "cell_type": "code",
   "execution_count": 1,
   "id": "45f41530",
   "metadata": {},
   "outputs": [],
   "source": [
    "from typing import Annotated, Literal, TypedDict\n",
    "from langchain_core.messages import HumanMessage\n",
    "from langchain_openai import ChatOpenAI\n",
    "from langchain_core.tools import tool\n",
    "from langgraph.checkpoint.memory import MemorySaver\n",
    "from langgraph.graph import END, StateGraph, MessagesState\n",
    "from langgraph.prebuilt import ToolNode\n"
   ]
  },
  {
   "cell_type": "code",
   "execution_count": 5,
   "id": "9013fe32",
   "metadata": {},
   "outputs": [],
   "source": [
    "@tool\n",
    "def recommend_recipe(dish):\n",
    "    \"\"\"주어진 요리에 대한 간단한 레시피를 제공합니다.\"\"\"\n",
    "    recipes = {\n",
    "        \"파스타\" : \"재료: 스파게티 면, 토마토 소스, 올리브 오일, 마늘, 면을 삶고 소스를 부어주세요\",\n",
    "        \"불고기\": \"재료: 소고기, 간장, 설탕, 마늘. 고기를 양념에 재워 볶아주세요.\",\n",
    "        \"샐러드\": \"재료: 양상추, 토마토, 오이, 드레싱. 채소를 썰어 드레싱과 버무려주세요.\"\n",
    "    }\n",
    "    return recipes.get(dish, '죄송하지만 해당 요리의 레시피를 찾을 수 없습니다.')"
   ]
  },
  {
   "cell_type": "code",
   "execution_count": 6,
   "id": "f46fddc0",
   "metadata": {},
   "outputs": [],
   "source": [
    "tools = [recommend_recipe]\n",
    "tool_node = ToolNode(tools)\n",
    "\n",
    "\n",
    "model = ChatOpenAI(model = 'gpt-4o-mini', temperature=0).bind_tools(tools)"
   ]
  },
  {
   "cell_type": "code",
   "execution_count": 7,
   "id": "cd5fedcf",
   "metadata": {},
   "outputs": [],
   "source": [
    "def should_continue(state: MessagesState):\n",
    "    messages = state['messages']\n",
    "    last_message = messages[-1]\n",
    "    if last_message.tool_calls:\n",
    "        return 'tools'\n",
    "    return END"
   ]
  },
  {
   "cell_type": "code",
   "execution_count": 8,
   "id": "e54f0672",
   "metadata": {},
   "outputs": [],
   "source": [
    "def call_model(state: MessagesState):\n",
    "    message = state['messages']\n",
    "    response = model.invoke(message)\n",
    "    return {'messages' : [response]}"
   ]
  },
  {
   "cell_type": "code",
   "execution_count": 11,
   "id": "5830d537",
   "metadata": {},
   "outputs": [],
   "source": [
    "workflow = StateGraph(MessagesState)\n",
    "workflow.add_node('agent', call_model)\n",
    "workflow.add_node('tools', tool_node)\n",
    "workflow.set_entry_point('agent')\n",
    "workflow.add_conditional_edges('agent', should_continue)\n",
    "\n",
    "checkpointer = MemorySaver()"
   ]
  },
  {
   "cell_type": "code",
   "execution_count": 12,
   "id": "aeef0a7b",
   "metadata": {},
   "outputs": [],
   "source": [
    "app = workflow.compile(checkpointer=checkpointer)\n",
    "\n",
    "\n",
    "final_state = app.invoke(\n",
    "    {'messages' : [HumanMessage(content=\"불고기 레시피 알려줘\")]},\n",
    "    config={'configurable' : {'thread_id' : 100}}\n",
    ")\n"
   ]
  },
  {
   "cell_type": "code",
   "execution_count": 13,
   "id": "c102c2c3",
   "metadata": {},
   "outputs": [
    {
     "data": {
      "text/plain": [
       "'재료: 소고기, 간장, 설탕, 마늘. 고기를 양념에 재워 볶아주세요.'"
      ]
     },
     "execution_count": 13,
     "metadata": {},
     "output_type": "execute_result"
    }
   ],
   "source": [
    "final_state['messages'][-1].content\n"
   ]
  },
  {
   "cell_type": "code",
   "execution_count": 14,
   "id": "4e771cfa",
   "metadata": {},
   "outputs": [],
   "source": [
    "from IPython.display import Image, display\n"
   ]
  },
  {
   "cell_type": "code",
   "execution_count": 16,
   "id": "a14a7cee",
   "metadata": {},
   "outputs": [
    {
     "data": {
      "image/png": "[encoded data removed]",
      "text/plain": [
       "<IPython.core.display.Image object>"
      ]
     },
     "metadata": {},
     "output_type": "display_data"
    }
   ],
   "source": [
    "display(Image(app.get_graph().draw_mermaid_png()))\n",
    "\n",
    "# sudo apt-get install graphviz libgraphviz-dev pkg-config\n",
    "\n"
   ]
  },
  {
   "cell_type": "code",
   "execution_count": 17,
   "id": "32ed62f4",
   "metadata": {},
   "outputs": [
    {
     "name": "stderr",
     "output_type": "stream",
     "text": [
      "Adding an edge to a graph that has already been compiled. This will not be reflected in the compiled graph.\n"
     ]
    },
    {
     "data": {
      "image/png": "[encoded data removed]",
      "text/plain": [
       "<IPython.core.display.Image object>"
      ]
     },
     "metadata": {},
     "output_type": "display_data"
    }
   ],
   "source": [
    "workflow.add_edge(\"tools\", 'agent')\n",
    "\n",
    "checkpointer = MemorySaver()\n",
    "app = workflow.compile(checkpointer=checkpointer)\n",
    "\n",
    "\n",
    "final_state = app.invoke(\n",
    "    {'messages' : [HumanMessage(content=\"불고기 레시피 알려줘\")]},\n",
    "    config={'configurable' : {'thread_id' : 100}}\n",
    ")\n",
    "\n",
    "\n",
    "final_state['messages'][-1].content\n",
    "\n",
    "\n",
    "from IPython.display import Image, display\n",
    "\n",
    "display(Image(app.get_graph().draw_mermaid_png()))\n"
   ]
  },
  {
   "cell_type": "markdown",
   "id": "7faf49aa",
   "metadata": {},
   "source": [
    "## agentic RAG 로 지능형 정보 검색 시스템 만들기\n",
    "\n",
    "- 사용자의 질문 입력 - > 에이전트는 적절한 도구를 사용하여 정보를 검색\n",
    "- 이를 기반으로 답변을 생성\n",
    "- 에이전트는 검색 결과의 관련성을 평가 한 이후, 경우에 따라 질문을 재작성하여 더 정확한 정보 제공"
   ]
  },
  {
   "cell_type": "code",
   "execution_count": 18,
   "id": "f8985ba8",
   "metadata": {},
   "outputs": [
    {
     "name": "stderr",
     "output_type": "stream",
     "text": [
      "USER_AGENT environment variable not set, consider setting it to identify your requests.\n"
     ]
    }
   ],
   "source": [
    "from langchain_community.document_loaders import WebBaseLoader\n",
    "from langchain_community.vectorstores import Chroma\n",
    "from langchain_openai import OpenAIEmbeddings\n",
    "from langchain_text_splitters import RecursiveCharacterTextSplitter"
   ]
  },
  {
   "cell_type": "code",
   "execution_count": 20,
   "id": "f776dcc8",
   "metadata": {},
   "outputs": [],
   "source": [
    "urls = [\n",
    "    \"https://finance.naver.com/\",\n",
    "    \"https://finance.yahoo.com/\",\n",
    "    \"https://finance.daum.net/\",\n",
    "]\n",
    "\n",
    "\n",
    "docs = [WebBaseLoader(url).load() for url in urls]\n",
    "docs_list = [item for sublist in docs for item in sublist]"
   ]
  },
  {
   "cell_type": "code",
   "execution_count": 21,
   "id": "9790a835",
   "metadata": {},
   "outputs": [],
   "source": [
    "docs_list2 = []\n",
    "for sublist in docs:\n",
    "    for item in sublist:\n",
    "        docs_list2.append(item)\n",
    "text_splitter = RecursiveCharacterTextSplitter.from_tiktoken_encoder(\n",
    "    chunk_size=100, chunk_overlap=50\n",
    ")\n"
   ]
  },
  {
   "cell_type": "code",
   "execution_count": 22,
   "id": "5954ff04",
   "metadata": {},
   "outputs": [],
   "source": [
    "doc_splits = text_splitter.split_documents(docs_list)\n",
    "\n",
    "\n",
    "vectorstore = Chroma.from_documents(\n",
    "    documents=doc_splits,\n",
    "    collection_name=\"rag-chroma\",\n",
    "    embedding=OpenAIEmbeddings(),\n",
    ")\n",
    "\n",
    "retriever = vectorstore.as_retriever()\n"
   ]
  },
  {
   "cell_type": "markdown",
   "id": "94b1cf02",
   "metadata": {},
   "source": [
    "## agent 상태 정의 "
   ]
  },
  {
   "cell_type": "code",
   "execution_count": 24,
   "id": "3410f976",
   "metadata": {},
   "outputs": [],
   "source": [
    "from typing import Annotated, Sequence, TypedDict\n",
    "from langchain_core.messages import BaseMessage\n",
    "from langgraph.graph.message import add_messages\n",
    "\n",
    "class AgentState(TypedDict):\n",
    "    messages:Annotated[Sequence[BaseMessage], add_messages]"
   ]
  },
  {
   "cell_type": "markdown",
   "id": "5f1441bc",
   "metadata": {},
   "source": [
    "## 검색도구 생성 \n"
   ]
  },
  {
   "cell_type": "code",
   "execution_count": 25,
   "id": "32c39be2",
   "metadata": {},
   "outputs": [],
   "source": [
    "from langchain.tools.retriever import create_retriever_tool\n",
    "\n",
    "\n",
    "retriever_tool = create_retriever_tool(\n",
    "    retriever,\n",
    "    'retrieve_blog_posts',\n",
    "    '네이버, 야후, 다음의 금융 관련 정보를 검색하고 반환합니다.'\n",
    ")\n"
   ]
  },
  {
   "cell_type": "markdown",
   "id": "9d6b315d",
   "metadata": {},
   "source": [
    "## 그래프 작성 \n"
   ]
  },
  {
   "cell_type": "code",
   "execution_count": 26,
   "id": "8d426b86",
   "metadata": {},
   "outputs": [
    {
     "name": "stderr",
     "output_type": "stream",
     "text": [
      "/home/sunsnu/miniconda3/envs/openai/lib/python3.12/site-packages/IPython/core/interactiveshell.py:3699: LangChainDeprecationWarning: As of langchain-core 0.3.0, LangChain uses pydantic v2 internally. The langchain_core.pydantic_v1 module was a compatibility shim for pydantic v1, and should no longer be used. Please update the code to import from Pydantic directly.\n",
      "\n",
      "For example, replace imports like: `from langchain_core.pydantic_v1 import BaseModel`\n",
      "with: `from pydantic import BaseModel`\n",
      "or the v1 compatibility namespace if you are working in a code base that has not been fully upgraded to pydantic 2 yet. \tfrom pydantic.v1 import BaseModel\n",
      "\n",
      "  exec(code_obj, self.user_global_ns, self.user_ns)\n"
     ]
    }
   ],
   "source": [
    "from langchain import hub\n",
    "from langchain_core.messages import BaseMessage, HumanMessage\n",
    "from langchain_core.output_parsers import StrOutputParser\n",
    "from langchain_core.prompts import PromptTemplate\n",
    "from langchain_core.pydantic_v1 import BaseModel, Field\n",
    "from langchain_openai import ChatOpenAI\n",
    "from langgraph.prebuilt import tools_condition\n"
   ]
  },
  {
   "cell_type": "code",
   "execution_count": 28,
   "id": "2a595f41",
   "metadata": {},
   "outputs": [],
   "source": [
    "#Edges\n",
    "\n",
    "\n",
    "#Edges\n",
    "\n",
    "\n",
    "def grade_documents(state):\n",
    "    \"\"\"\n",
    "    검색된 문서가 질문과 관련이 있는지 평가합니다.\n",
    "\n",
    "\n",
    "    Args:\n",
    "        state : 현재 상태\n",
    "    Returns :\n",
    "        str: 문서의 관련성에 따라 다음 노드 결정 (\"generate\" or \"rewrite\")\n",
    "    \"\"\"\n",
    "    print(\"----문서 관련성 평가----\")\n",
    "\n",
    "\n",
    "    class grade(BaseModel):\n",
    "        \"\"\"관련성 평가를 위한 이진 점수\"\"\"\n",
    "        binary_score: str = Field(description=\"관련성 점수 'yes' 또는 'no\")\n",
    "\n",
    "\n",
    "    model = ChatOpenAI(model='gpt-4o-mini', temperature=0, streaming=True)\n",
    "\n",
    "\n",
    "    llm_with_tool = model.with_structured_output(grade)\n",
    "\n",
    "\n",
    "    prompt = PromptTemplate(\n",
    "        template=\"\"\"당신은 사용자 질문에 대해서 검색된 문서의 관련성을 평가하는 평가자입니다.\n",
    "        여기 검색된 문서가 있습니다:\n",
    "        {context}\n",
    "        여기 사용자 질문이 있습니다:\n",
    "        {question}\n",
    "        문서가 사용자 질문과 관련된 키워드 또는 의미를 포함하면 관련성이 있다고 평가하세요.\n",
    "        문서가 질문과 관련이 있는지 여부를 나타내기 위해 'yes' 또는 'no'로 이진 점수를 주세요\n",
    "        \"\"\"\n",
    "    )\n",
    "\n",
    "\n",
    "    chain = prompt | llm_with_tool\n",
    "\n",
    "    messages = state['messages']\n",
    "    last_message = messages[-1]\n",
    "\n",
    "\n",
    "    question = messages[0].content\n",
    "    docs = last_message.content\n",
    "\n",
    "\n",
    "    scored_result = chain.invoke({'question': question, 'context' : docs})\n",
    "\n",
    "\n",
    "    score = scored_result.binary_score\n",
    "\n",
    "\n",
    "    if score == \"yes\":\n",
    "        print(\"--결정: 문서 관련성 있음--\")\n",
    "        return \"generate\"\n",
    "    else:\n",
    "        print(\"--결정: 문서 관련성 없음\")\n",
    "        return 'rewrite'\n",
    "   \n"
   ]
  },
  {
   "cell_type": "code",
   "execution_count": 29,
   "id": "389bd53a",
   "metadata": {},
   "outputs": [],
   "source": [
    "tools = [retriever_tool]\n",
    "def agent(state):\n",
    "    \"\"\"\n",
    "    현재 상태를 기반으로 에이전트 모델을 호출하여 응답을 생성합니다.\n",
    "    주어진 질문에 따라 검색 도구를 사용하여 검색을 수행하거나 단순히 종료하기로 결정합니다.\n",
    "\n",
    "\n",
    "    Arggs:\n",
    "        state: 현재 상태\n",
    "    Returns:\n",
    "        dict: 메시지에 에이전트 응답이 추가된 업데이트된 상태\n",
    "    \"\"\"\n",
    "    messages = state['messages']\n",
    "    print(\"에이전트로 전달된 메시지들: \", messages)\n",
    "    model = ChatOpenAI(model='gpt-4o-mini', temperature=0, streaming=True)\n",
    "   \n",
    "    model = model.bind_tools(tools)\n",
    "    response = model.invoke(messages)\n",
    "    state['messages'].append(response)\n",
    "    return state\n",
    "   \n",
    "\n",
    "\n",
    "\n",
    "\n",
    "def rewrite(state):\n",
    "    \"\"\"\n",
    "    질문을 재작성(변형)하여 더 나은 질문을 생성합니다.\n",
    "\n",
    "\n",
    "    Args:\n",
    "        state (messages): 현재 상태\n",
    "\n",
    "\n",
    "    Returns:\n",
    "        dict: 재구성된 질문으로 업데이트된 상태\n",
    "    \"\"\"\n",
    "\n",
    "\n",
    "    print(\"---질문 변형---\")\n",
    "    messages = state[\"messages\"]\n",
    "    question = messages[0].content\n",
    "\n",
    "\n",
    "    msg = [\n",
    "        HumanMessage(\n",
    "            content=f\"\"\"다음 입력을 보고 근본적인 의도나 의미를 파악해보세요.\\n\n",
    "            초기 질문은 다음과 같습니다:\n",
    "            \\n-------\\n\n",
    "            {question}\n",
    "            \\n-------\\n\n",
    "            개선된 질문을 만들어주세요:\"\"\",\n",
    "        )\n",
    "    ]\n",
    "    # 평가자\n",
    "    model = ChatOpenAI(temperature=0, model=\"gpt-4o-mini\", streaming=True)\n",
    "    response = model.invoke(msg)\n",
    "\n",
    "\n",
    "    # 반환되는 메세지가 올바른지 확인\n",
    "    print(\"Rewrite 단계에서의 응답:\", response)\n",
    "\n",
    "\n",
    "    # 상태 업데이트 - 기존 메시지에 새 메시지를 추가하여 상태를 업데이트\n",
    "    state[\"messages\"].append(response)\n",
    "   \n",
    "    return state\n"
   ]
  },
  {
   "cell_type": "code",
   "execution_count": 30,
   "id": "ed336388",
   "metadata": {},
   "outputs": [],
   "source": [
    "def generate(state):\n",
    "    \"\"\"\n",
    "    답변 생성\n",
    "\n",
    "\n",
    "    Args:\n",
    "        state (messages): 현재 상태\n",
    "\n",
    "\n",
    "    Returns:\n",
    "         dict: 재구성된 질문으로 업데이트된 상태\n",
    "    \"\"\"\n",
    "    print(\"---생성---\")\n",
    "    messages = state[\"messages\"]\n",
    "    question = messages[0].content\n",
    "    last_message = messages[-1]\n",
    "\n",
    "\n",
    "    question = messages[0].content\n",
    "    docs = last_message.content\n",
    "\n",
    "\n",
    "    # 프롬프트\n",
    "    # prompt = hub.pull(\"rlm/rag-prompt\")\n",
    "    # 프롬프트 정의\n",
    "    prompt = PromptTemplate(\n",
    "    template=\"\"\"당신은 질문-답변 작업을 위한 어시스턴트입니다.\n",
    "    아래 제공된 문맥을 사용하여 질문에 답변해주세요.\n",
    "    답을 모를 경우 '모르겠습니다'라고 말해주세요. 답변은 최대 3문장으로 간결하게 작성하세요.\n",
    "   \n",
    "    질문: {question}\n",
    "    문맥: {context}\n",
    "    답변: \"\"\",\n",
    "    input_variables=[\"context\", \"question\"],\n",
    "    )\n",
    "\n",
    "\n",
    "    # LLM\n",
    "    llm = ChatOpenAI(model_name=\"gpt-3.5-turbo\", temperature=0, streaming=True)\n",
    "   \n",
    "\n",
    "\n",
    "    # 체인\n",
    "    rag_chain = prompt | llm | StrOutputParser()\n",
    "\n",
    "\n",
    "    # 실행\n",
    "    response = rag_chain.invoke({\"context\": docs, \"question\": question})\n",
    "   \n",
    "    return {\"messages\": [response]}"
   ]
  },
  {
   "cell_type": "code",
   "execution_count": 31,
   "id": "579cc084",
   "metadata": {},
   "outputs": [],
   "source": [
    "from langgraph.graph import END, StateGraph, START\n",
    "from langgraph.prebuilt import ToolNode"
   ]
  },
  {
   "cell_type": "code",
   "execution_count": 35,
   "id": "ca697673",
   "metadata": {},
   "outputs": [],
   "source": [
    "#그래프 정의 \n",
    "workflow.add_node(\"agent\", agent)  # 에이전트 노드\n",
    "retrieve = ToolNode([retriever_tool])\n",
    "workflow.add_node(\"retrieve\", retrieve)  # 검색 도구 노드\n",
    "workflow.add_node(\"rewrite\", rewrite)  # 질문 재작성 노드\n",
    "workflow.add_node(\n",
    "    \"generate\", generate\n",
    ")  # 문서가 관련성이 있다고 판단된 후 응답 생성 노드\n",
    "# 에이전트 노드를 호출하여 검색을 결정합니다.\n",
    "workflow.add_edge(START, \"agent\")\n",
    "workflow.add_conditional_edges(\n",
    "    \"agent\",\n",
    "    # 에이전트 결정 평가\n",
    "    tools_condition,\n",
    "    {\n",
    "        # 조건 출력을 그래프 내 노드로 변환, 반환 값: 실행 노드\n",
    "        \"tools\": \"retrieve\",\n",
    "        END: \"generate\",\n",
    "    },\n",
    ")\n",
    "# 검색 후 문서 관련성 평가\n",
    "workflow.add_conditional_edges(\n",
    "    \"retrieve\",\n",
    "    # 에이전트 결정 평가\n",
    "    grade_documents,\n",
    "    {\n",
    "        # 조건 출력을 그래프 내 노드로 변환, 반환 값: 실행 노드\n",
    "        \"generate\" : \"generate\",\n",
    "        \"rewrite\" : \"rewrite\"\n",
    "    }\n",
    ")\n",
    "workflow.add_edge(\"generate\", END)\n",
    "workflow.add_edge(\"rewrite\", \"agent\")\n",
    "graph = workflow.compile()\n"
   ]
  },
  {
   "cell_type": "code",
   "execution_count": 36,
   "id": "1c2d2c4e",
   "metadata": {},
   "outputs": [
    {
     "data": {
      "image/png": "[encoded data removed]",
      "text/plain": [
       "<langgraph.graph.state.CompiledStateGraph object at 0x7f31702b3c50>"
      ]
     },
     "execution_count": 36,
     "metadata": {},
     "output_type": "execute_result"
    }
   ],
   "source": [
    "graph"
   ]
  },
  {
   "cell_type": "code",
   "execution_count": 38,
   "id": "f4613936",
   "metadata": {},
   "outputs": [
    {
     "data": {
      "image/png": "[encoded data removed]",
      "text/plain": [
       "<IPython.core.display.Image object>"
      ]
     },
     "metadata": {},
     "output_type": "display_data"
    },
    {
     "name": "stdout",
     "output_type": "stream",
     "text": [
      "에이전트로 전달된 메시지들:  [HumanMessage(content='삼성전자 주가는?', additional_kwargs={}, response_metadata={}, id='c4590d9b-de38-48b4-b296-234f731dd8bc')]\n",
      "\"노드 'agent'의 출력 결과:\"\n",
      "'---'\n",
      "{ 'messages': [ HumanMessage(content='삼성전자 주가는?', additional_kwargs={}, response_metadata={}, id='c4590d9b-de38-48b4-b296-234f731dd8bc'),\n",
      "                AIMessage(content='', additional_kwargs={'tool_calls': [{'index': 0, 'id': 'call_6ZD3b8XwtF4qYCM6ByGQWAQc', 'function': {'arguments': '{\"query\":\"삼성전자 주가\"}', 'name': 'retrieve_blog_posts'}, 'type': 'function'}]}, response_metadata={'finish_reason': 'tool_calls', 'model_name': 'gpt-4o-mini-2024-07-18', 'system_fingerprint': 'fp_34a54ae93c', 'service_tier': 'default'}, id='run--54b7ac4f-dcea-48af-9eab-33a7bb17c430-0', tool_calls=[{'name': 'retrieve_blog_posts', 'args': {'query': '삼성전자 주가'}, 'id': 'call_6ZD3b8XwtF4qYCM6ByGQWAQc', 'type': 'tool_call'}])]}\n",
      "'\\n---\\n'\n",
      "----문서 관련성 평가----\n"
     ]
    },
    {
     "name": "stderr",
     "output_type": "stream",
     "text": [
      "/home/sunsnu/miniconda3/envs/openai/lib/python3.12/site-packages/langchain_openai/chat_models/base.py:1844: UserWarning: Received a Pydantic BaseModel V1 schema. This is not supported by method=\"json_schema\". Please use method=\"function_calling\" or specify schema via JSON Schema or Pydantic V2 BaseModel. Overriding to method=\"function_calling\".\n",
      "  warnings.warn(\n"
     ]
    },
    {
     "name": "stdout",
     "output_type": "stream",
     "text": [
      "--결정: 문서 관련성 있음--\n",
      "\"노드 'retrieve'의 출력 결과:\"\n",
      "'---'\n",
      "{ 'messages': [ ToolMessage(content='-1.18%\\n\\t\\t\\t\\t\\n\\n\\n\\n삼성전자우\\n57,500\\n상승 800\\n\\n\\n\\t\\t\\t\\t+1.41%\\n\\t\\t\\t\\t\\n\\n\\n\\nKB금융\\n114,300\\n하락 1,300\\n\\n+11.27%\\n\\t\\t\\t\\t\\n\\n\\n\\n삼성전자\\n70,300\\n상승 1,500\\n\\n\\n\\t\\t\\t\\t+2.18%\\n\\t\\t\\t\\t\\n\\n\\n\\n두산에너빌리티\\n65,400\\n하락 900\\n\\n삼성전자\\n70,300\\n상승 1,500\\n\\n\\n\\t\\t\\t\\t+2.18%\\n\\t\\t\\t\\t\\n\\n\\n\\nSK하이닉스\\n260,750\\n상승 2,250\\n\\n\\n\\t\\t\\t\\t+0.87%\\n\\n삼성전자\\n70,300\\n상승 1,500\\n\\n\\n\\t\\t\\t\\t+2.18%\\n\\t\\t\\t\\t\\n\\n\\n\\nSK하이닉스\\n260,500\\n상승 2,000\\n\\n\\n\\t\\t\\t\\t+0.77%', name='retrieve_blog_posts', id='c063872b-8970-4be5-bc13-1b9e34aa226c', tool_call_id='call_6ZD3b8XwtF4qYCM6ByGQWAQc')]}\n",
      "'\\n---\\n'\n",
      "---생성---\n",
      "\"노드 'generate'의 출력 결과:\"\n",
      "'---'\n",
      "{'messages': ['삼성전자 주가는 70,300원이며 상승폭은 1,500원으로 +2.18% 상승했습니다.']}\n",
      "'\\n---\\n'\n"
     ]
    }
   ],
   "source": [
    "from IPython.display import Image, display\n",
    "display(Image(graph.get_graph(xray=True).draw_mermaid_png()))\n",
    "\n",
    "\n",
    "\n",
    "\n",
    "\n",
    "\n",
    "import pprint\n",
    "inputs = {\n",
    "    'messages': [('user', '삼성전자 주가는?') ]}\n",
    "\n",
    "\n",
    "for output in graph.stream(inputs):\n",
    "    for key, value in output.items():\n",
    "        pprint.pprint(f\"노드 '{key}'의 출력 결과:\")\n",
    "        pprint.pprint(\"---\")\n",
    "        pprint.pprint(value, indent=2, width=80, depth=None)\n",
    "    pprint.pprint(\"\\n---\\n\")"
   ]
  },
  {
   "cell_type": "code",
   "execution_count": null,
   "id": "c42b1344",
   "metadata": {},
   "outputs": [],
   "source": []
  }
 ],
 "metadata": {
  "kernelspec": {
   "display_name": "openai",
   "language": "python",
   "name": "python3"
  },
  "language_info": {
   "codemirror_mode": {
    "name": "ipython",
    "version": 3
   },
   "file_extension": ".py",
   "mimetype": "text/x-python",
   "name": "python",
   "nbconvert_exporter": "python",
   "pygments_lexer": "ipython3",
   "version": "3.12.11"
  }
 },
 "nbformat": 4,
 "nbformat_minor": 5
}
