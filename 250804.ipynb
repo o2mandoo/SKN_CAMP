# 1. itemgetter 예제 - 리스트/딕셔너리 값 추출
from operator import itemgetter

my_list = ['a', 'b', 'c', 'd']
my_dict = {'name': 'Alice', 'age': 30}

get_index_1 = itemgetter(1)
get_age = itemgetter('age')

print(get_index_1(my_list))  # 'b'
print(get_age(my_dict))      # 30


# 2. 정규표현식으로 휴대폰 번호 추출
import re

text = "안녕하세요! 제 번호는 010-9999-4567 입니다."
match = re.search(r"(\d{3}-\d{4}-\d{4})", text)
if match:
    print(match.group(1))

# 바다코끼리 연산자(:=)
if match := re.search(r"(\d{3}-\d{4}-\d{4})", text):
    print(match.group(1))
# 3. LangChain: 프롬프트 체인 & LLM 파이프라인 예제
from langchain_core.output_parsers import StrOutputParser
from langchain_core.prompts import ChatPromptTemplate
from langchain_openai import ChatOpenAI

prompt = ChatPromptTemplate.from_messages([
    ("system", "사용자 입력한 요리의 레시피를 생각하세요"),
    ("human", "{dish}")
])
model = ChatOpenAI(model='gpt-4o-mini', temperature=0)
chain = prompt | model | StrOutputParser()

print(chain.invoke({'dish': '라면'}))

# stream (실시간 토막 단위 응답)
for chunk in chain.stream({'dish': '마라탕'}):
    print(chunk, end="")

# batch (여러 입력 동시 처리)
output = chain.batch([{'dish': '라면'}, {'dish': '떡볶이'}])
print(output)

# 4. LangChain: Chain-of-Thought + 요약 파이프라인
cot_prompt = ChatPromptTemplate.from_messages([
    ("system", "사용자의 질문에 단계적으로 답변하세요"),
    ("human", "{question}")
])
cot_chain = cot_prompt | model | StrOutputParser()

summarize_prompt = ChatPromptTemplate.from_messages([
    ("system", "단계적으로 생각한 답변에서 결론만 추출할 것"),
    ("human", "{text}")
])
summarize_chain = summarize_prompt | model | StrOutputParser()

cot_summarize_chain = cot_chain | summarize_chain
print(cot_summarize_chain.invoke({'question': "10 + 5 * 3"}))


# 5. RunnableLambda: LLM 결과 사용자 함수 변환
from langchain_core.runnables import RunnableLambda

def upper(text):
    return text.upper()

chain_upper = prompt | model | StrOutputParser() | RunnableLambda(upper)
print(chain_upper.invoke({'dish': 'ramen'}))



# 6. RunnableParallel: 낙관주의/비관주의 LLM 동시 실행 예시
from langchain_core.runnables import RunnableParallel

optim_prompt = ChatPromptTemplate.from_messages([
    ("system", "당신은 낙관주의자입니다. 주제에 낙관적으로 답하세요."),
    ("human", "{topic}")
])
optim_chain = optim_prompt | model | StrOutputParser()

pessi_prompt = ChatPromptTemplate.from_messages([
    ("system", "당신은 비관주의자입니다. 주제에 비관적으로 답하세요."),
    ("human", "{topic}")
])
pessi_chain = pessi_prompt | model | StrOutputParser()

parallel_chain = RunnableParallel({
    'optimistic_opinion': optim_chain,
    'pessimistic_opinion': pessi_chain
})
output = parallel_chain.invoke({'topic': "피자와 치킨"})
print(output)




# 7. Github Repo 클론, VectorDB/RAG 파이프라인 실습
from langchain_community.document_loaders import GitLoader
from langchain_chroma import Chroma
from langchain_openai import OpenAIEmbeddings
from langchain_text_splitters import RecursiveCharacterTextSplitter

loader = GitLoader(clone_url="https://github.com/langchain-ai/langchain",
                   repo_path='./langchain',
                   branch='master',
                   file_filter=lambda x: x.endswith(".mdx"))
documents = loader.load()
embedding = OpenAIEmbeddings(model='text-embedding-3-small')
splitter = RecursiveCharacterTextSplitter(chunk_size=1000, chunk_overlap=50)
split_documents = splitter.split_documents(documents)
db = Chroma.from_documents(split_documents, embedding)
retriever = db.as_retriever()

from langchain_core.prompts import ChatPromptTemplate
from langchain_core.runnables import RunnablePassthrough, StrOutputParser

prompt = ChatPromptTemplate.from_template("""
다음 문맥만을 고려해서 질문에 답하시요.
문맥: \"\"\"{context}\"\"\"
질문: {question}
""")
chain = {
    "question": RunnablePassthrough(),
    "context": retriever,
} | prompt | model | StrOutputParser()

output = chain.invoke("LangChain 개요를 알려줘?")
print(output)

# 8. PostgreSQL(Ubuntu) 설치 명령 (__bash__)
'''
sudo apt install -y postgresql-common
sudo /usr/share/postgresql-common/pgdg/apt.postgresql.org.sh
sudo apt install curl ca-certificates
sudo install -d /usr/share/postgresql-common/pgdg
sudo curl -o /usr/share/postgresql-common/pgdg/apt.postgresql.org.asc --fail https://www.postgresql.org/media/keys/ACCC4CF8.asc
. /etc/os-release
sudo sh -c "echo 'deb [signed-by=/usr/share/postgresql-common/pgdg/apt.postgresql.org.asc] https://apt.postgresql.org/pub/repos/apt $VERSION_CODENAME-pgdg main' > /etc/apt/sources.list.d/pgdg.list"
sudo apt update
sudo apt -y install postgresql
'''
