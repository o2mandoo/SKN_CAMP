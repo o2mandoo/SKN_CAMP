{
 "cells": [
  {
   "cell_type": "markdown",
   "id": "106584fb",
   "metadata": {},
   "source": [
    "# Agentic RAG로 지능형 정보 검색 시스템 만들기 \n",
    "\n",
    "- 사용자의 질문 입력 -> 에이전트는 적절한 도구를 사용하여 정보를 검색 \n",
    "- 이를 기반으로 답변을 생성 \n",
    "- 에이전트는 검색 결과의 관련성을 평가 한 이후, 경우에 따라 질문을 재작성하여 더 정확한 정보 제공"
   ]
  },
  {
   "cell_type": "code",
   "execution_count": 3,
   "id": "698ccae7",
   "metadata": {},
   "outputs": [
    {
     "name": "stderr",
     "output_type": "stream",
     "text": [
      "USER_AGENT environment variable not set, consider setting it to identify your requests.\n"
     ]
    }
   ],
   "source": [
    "from langchain_community.document_loaders import WebBaseLoader\n",
    "from langchain_community.vectorstores import Chroma\n",
    "from langchain_openai import OpenAIEmbeddings\n",
    "from langchain_text_splitters import RecursiveCharacterTextSplitter"
   ]
  },
  {
   "cell_type": "code",
   "execution_count": 4,
   "id": "5d3bdf3d",
   "metadata": {},
   "outputs": [],
   "source": [
    "urls = [\n",
    "    \"https://finance.naver.com/\",\n",
    "    \"https://finance.yahoo.com/\",\n",
    "    \"https://finance.daum.net/\",\n",
    "]"
   ]
  },
  {
   "cell_type": "code",
   "execution_count": 5,
   "id": "cd14b13e",
   "metadata": {},
   "outputs": [],
   "source": [
    "docs = [WebBaseLoader(url).load() for url in urls]\n",
    "    "
   ]
  },
  {
   "cell_type": "code",
   "execution_count": 6,
   "id": "08243440",
   "metadata": {},
   "outputs": [
    {
     "data": {
      "text/plain": [
       "[[Document(metadata={'source': 'https://finance.naver.com/', 'title': '네이버페이 증권', 'language': 'ko'}, page_content='\\n\\n\\n네이버페이 증권\\n\\n\\n\\n\\n\\n\\n\\n\\n\\n\\n\\n\\n\\n\\n\\n\\n\\n\\n\\n\\n\\n\\n\\n\\n\\n\\n\\n\\n\\n메인 메뉴로 바로가기\\n본문으로 바로가기\\n\\n\\n\\n\\n\\n\\n\\n\\n\\n\\n네이버\\n\\n\\n\\n\\n\\n페이\\n\\n\\n\\n\\n\\n\\n증권\\n\\n\\n\\n\\n\\n\\n증권 종목명·지수명 검색\\n\\n\\n\\n\\n\\n\\n\\n검색\\n\\n\\n자동완성\\n\\n\\n\\n\\n\\n\\n\\n@code@\\n@txt@\\n@market@\\n\\n@full_txt@\\n@in_code@\\n@in_name@\\n@in_link@\\n@in_market@\\n\\n\\n\\n\\n\\t\\t\\t\\t\\t\\t\\t\\t\\t\\t\\t\\t공모주와 해외 종목은 모바일 페이지로 이동합니다.\\n\\t\\t\\t\\t\\t\\t\\t\\t\\t\\t\\t\\n\\n\\n\\n\\n\\n\\n\\n\\n\\t\\t\\t\\t\\t\\t\\t\\t\\t\\t\\t\\t현재 자동완성 기능을 사용하고 계십니다.\\n\\t\\t\\t\\t\\t\\t\\t\\t\\t\\t\\t\\n\\n\\n\\n\\n\\n\\n\\n\\n\\n\\t\\t\\t\\t\\t\\t\\t\\t\\t\\t\\t\\t자동완성 기능이 활성화되었습니다.\\n\\t\\t\\t\\t\\t\\t\\t\\t\\t\\t\\t\\n\\n\\n\\n\\n\\n\\n\\n\\n\\n\\n\\n\\n\\n\\n\\n\\n\\n\\n\\n\\n\\n증권 홈선택됨\\n국내증시\\n해외증시\\n시장지표\\n리서치\\n뉴스\\nMY\\n\\n\\n\\n\\n\\n\\n\\n\\n\\n본문시작\\n\\n오늘의 코스피/코스닥 지수\\n2025년 08월 07일 장중\\n코스피 지수 3,217.07 전일대비 상승 18.93 플러스 0.59 퍼센트\\n코스닥 지수 805.02 전일대비 상승 1.53 플러스 0.19 퍼센트\\n\\n\\n\\n\\n\\n최근조회종목\\nMY STOCK\\n\\n\\n\\n최근 조회종목 리스트\\n\\n\\n\\n\\n\\n\\n\\n\\n\\n\\n\\n\\n\\n주요뉴스\\n\\n\\n\"배당 최고세율 낮춰도 이상 無\"…대주주-개미 \\'윈윈\\' 전망 나왔다\\n\\n\\n“S&P500 장기우상향 믿음 흔들리지 않게”…\\'변동성 관리\\' ETF 나온다\\n\\n\\n中 관광객 무비자 특수...카지노주 잭팟 대기 [마켓딥다이브]\\n\\n\\n외국인이 열흘 내내 줍줍…현대글로비스 52주 신고가 경신 [줍줍 리포트]\\n\\n\\n삼성운용, 세계 최초 조건부 커버드콜 ETF 출시\\n\\n\\n\"주식양도세 회피 연말 \\'매도 폭탄\\' 연초에 다시 \\'폭풍매수\\'로 이어졌다\"\\n\\n\\n주요뉴스 더보기\\n\\n\\n\\nTOP 종목\\n\\n\\n\\n\\n\\nKRX\\n\\n\\nNXT\\n\\n\\n\\n                                넥스트레이드(NXT)\\n                                \\n\\n도움말\\n\\n\\n\\n\\n넥스트레이드(NXT)\\n                                        넥스트레이드(NXT)란 대한민국\\n                                        최초의 대체거래소(ATS,\\n                                        Alternative Trading\\n                                        System)입니다. 아래는\\n                                        넥스트레이드에서 거래가 가능한\\n                                        종목들입니다.\\n                                    \\n\\n\\n\\n\\n\\n\\n\\n거래상위\\n상승\\n하락\\n시가총액 상위\\n\\n\\n\\n거래상위 TOP 종목종목명에 대한 현재가, 전일대비, 등락률로 구분되어 있습니다.\\n\\n\\n\\n\\n\\n\\n종목명\\n현재가\\n전일대비\\n등락률\\n\\n\\n\\n\\nKODEX 200선물인버스2X\\n1,290\\n하락 17\\n\\n\\n\\t\\t\\t\\t-1.30%\\n\\t\\t\\t\\t\\n\\n\\n\\n삼성 인버스 2X WTI원유 선물 ETN\\n77\\n상승 1\\n\\n\\n\\t\\t\\t\\t+1.32%\\n\\t\\t\\t\\t\\n\\n\\n\\n썸에이지\\n449\\n하락 64\\n\\n\\n\\t\\t\\t\\t-12.48%\\n\\t\\t\\t\\t\\n\\n\\n\\n삼기에너지솔루션즈\\n2,355\\n상승 371\\n\\n\\n\\t\\t\\t\\t+18.70%\\n\\t\\t\\t\\t\\n\\n\\n\\nPS일렉트로닉스\\n3,915\\n상승 195\\n\\n\\n\\t\\t\\t\\t+5.24%\\n\\t\\t\\t\\t\\n\\n\\n\\nKODEX 2차전지산업레버리지\\n1,152\\n하락 13\\n\\n\\n\\t\\t\\t\\t-1.12%\\n\\t\\t\\t\\t\\n\\n\\n\\nKODEX 인버스\\n3,460\\n하락 25\\n\\n\\n\\t\\t\\t\\t-0.72%\\n\\t\\t\\t\\t\\n\\n\\n\\nKODEX 코스닥150선물인버스\\n3,430\\n상승 5\\n\\n\\n\\t\\t\\t\\t+0.15%\\n\\t\\t\\t\\t\\n\\n\\n\\nHJ중공업\\n13,900\\n상승 2,470\\n\\n\\n\\t\\t\\t\\t+21.61%\\n\\t\\t\\t\\t\\n\\n\\n\\n신한 인버스 2X WTI원유 선물 ETN(H)\\n65\\n상승 1\\n\\n\\n\\t\\t\\t\\t+1.56%\\n\\t\\t\\t\\t\\n\\n\\n\\nKODEX 레버리지\\n25,175\\n상승 350\\n\\n\\n\\t\\t\\t\\t+1.41%\\n\\t\\t\\t\\t\\n\\n\\n\\n세명전기\\n9,350\\n상승 1,200\\n\\n\\n\\t\\t\\t\\t+14.72%\\n\\t\\t\\t\\t\\n\\n\\n\\n삼기\\n1,455\\n상승 112\\n\\n\\n\\t\\t\\t\\t+8.34%\\n\\t\\t\\t\\t\\n\\n\\n\\n엔투텍\\n470\\n상승 108\\n\\n\\n\\t\\t\\t\\t+29.83%\\n\\t\\t\\t\\t\\n\\n\\n\\n동일스틸럭스\\n1,224\\n상승 282\\n\\n\\n\\t\\t\\t\\t+29.94%\\n\\t\\t\\t\\t\\n\\n\\n\\n\\n거래상위 더보기\\n\\n\\n\\n거래상위 TOP 종목종목명에 대한 현재가, 전일대비, 등락률로 구분되어 있습니다.\\n\\n\\n\\n\\n\\n\\n종목명\\n현재가\\n전일대비\\n등락률\\n\\n\\n\\n\\nHJ중공업\\n13,910\\n상승 2,480\\n\\n\\n\\t\\t\\t\\t+21.70%\\n\\t\\t\\t\\t\\n\\n\\n\\n오리엔탈정공\\n8,120\\n상승 1,820\\n\\n\\n\\t\\t\\t\\t+28.89%\\n\\t\\t\\t\\t\\n\\n\\n\\n네이처셀\\n19,240\\n하락 5,510\\n\\n\\n\\t\\t\\t\\t-22.26%\\n\\t\\t\\t\\t\\n\\n\\n\\n카카오\\n63,400\\n상승 6,600\\n\\n\\n\\t\\t\\t\\t+11.62%\\n\\t\\t\\t\\t\\n\\n\\n\\n삼성전자\\n70,200\\n상승 1,400\\n\\n\\n\\t\\t\\t\\t+2.03%\\n\\t\\t\\t\\t\\n\\n\\n\\n두산에너빌리티\\n65,300\\n하락 1,000\\n\\n\\n\\t\\t\\t\\t-1.51%\\n\\t\\t\\t\\t\\n\\n\\n\\nYG PLUS\\n9,560\\n상승 550\\n\\n\\n\\t\\t\\t\\t+6.10%\\n\\t\\t\\t\\t\\n\\n\\n\\n한국전력\\n41,950\\n상승 800\\n\\n\\n\\t\\t\\t\\t+1.94%\\n\\t\\t\\t\\t\\n\\n\\n\\n에스와이스틸텍\\n4,570\\n상승 380\\n\\n\\n\\t\\t\\t\\t+9.07%\\n\\t\\t\\t\\t\\n\\n\\n\\n한화오션\\n116,900\\n상승 2,700\\n\\n\\n\\t\\t\\t\\t+2.36%\\n\\t\\t\\t\\t\\n\\n\\n\\n삼성중공업\\n19,510\\n하락 90\\n\\n\\n\\t\\t\\t\\t-0.46%\\n\\t\\t\\t\\t\\n\\n\\n\\n두산테스나\\n33,950\\n상승 2,900\\n\\n\\n\\t\\t\\t\\t+9.34%\\n\\t\\t\\t\\t\\n\\n\\n\\n글로벌텍스프리\\n4,765\\n하락 100\\n\\n\\n\\t\\t\\t\\t-2.06%\\n\\t\\t\\t\\t\\n\\n\\n\\n대한조선\\n106,800\\n하락 900\\n\\n\\n\\t\\t\\t\\t-0.84%\\n\\t\\t\\t\\t\\n\\n\\n\\n대한전선\\n16,830\\n상승 410\\n\\n\\n\\t\\t\\t\\t+2.50%\\n\\t\\t\\t\\t\\n\\n\\n\\n\\n거래상위 더보기\\n\\n\\n\\n상승 TOP 종목종목명에 대한 현재가, 전일대비, 등락률로 구분되어 있습니다.\\n\\n\\n\\n\\n\\n\\n종목명\\n현재가\\n전일대비\\n등락률\\n\\n\\n\\n\\n아이티켐\\n30,350\\n상승 14,250 \\n\\n\\n\\t\\t\\t\\t+88.51%\\n\\t\\t\\t\\t\\n\\n\\n\\n동일스틸럭스\\n1,224\\n상한가 282 \\n\\n\\n\\t\\t\\t\\t+29.94%\\n\\t\\t\\t\\t\\n\\n\\n\\n엔투텍\\n470\\n상한가 108 \\n\\n\\n\\t\\t\\t\\t+29.83%\\n\\t\\t\\t\\t\\n\\n\\n\\n빌리언스\\n510\\n상한가 117 \\n\\n\\n\\t\\t\\t\\t+29.77%\\n\\t\\t\\t\\t\\n\\n\\n\\n오리엔탈정공\\n8,120\\n상승 1,820 \\n\\n\\n\\t\\t\\t\\t+28.89%\\n\\t\\t\\t\\t\\n\\n\\n\\nHJ중공업\\n13,900\\n상승 2,470 \\n\\n\\n\\t\\t\\t\\t+21.61%\\n\\t\\t\\t\\t\\n\\n\\n\\n삼기에너지솔루션즈\\n2,355\\n상승 371 \\n\\n\\n\\t\\t\\t\\t+18.70%\\n\\t\\t\\t\\t\\n\\n\\n\\n세명전기\\n9,350\\n상승 1,200 \\n\\n\\n\\t\\t\\t\\t+14.72%\\n\\t\\t\\t\\t\\n\\n\\n\\n핌스\\n1,827\\n상승 227 \\n\\n\\n\\t\\t\\t\\t+14.19%\\n\\t\\t\\t\\t\\n\\n\\n\\n헬릭스미스\\n4,100\\n상승 485 \\n\\n\\n\\t\\t\\t\\t+13.42%\\n\\t\\t\\t\\t\\n\\n\\n\\nSG\\n2,405\\n상승 275 \\n\\n\\n\\t\\t\\t\\t+12.91%\\n\\t\\t\\t\\t\\n\\n\\n\\n인화정공\\n48,300\\n상승 5,400 \\n\\n\\n\\t\\t\\t\\t+12.59%\\n\\t\\t\\t\\t\\n\\n\\n\\n메쎄이상\\n3,100\\n상승 340 \\n\\n\\n\\t\\t\\t\\t+12.32%\\n\\t\\t\\t\\t\\n\\n\\n\\n카카오\\n63,300\\n상승 6,500 \\n\\n\\n\\t\\t\\t\\t+11.44%\\n\\t\\t\\t\\t\\n\\n\\n\\n바이오다인\\n16,100\\n상승 1,600 \\n\\n\\n\\t\\t\\t\\t+11.03%\\n\\t\\t\\t\\t\\n\\n\\n\\n\\n상승 더보기\\n\\n\\n\\n상승 TOP 종목종목명에 대한 현재가, 전일대비, 등락률로 구분되어 있습니다.\\n\\n\\n\\n\\n\\n\\n종목명\\n현재가\\n전일대비\\n등락률\\n\\n\\n\\n\\n오리엔탈정공\\n8,120\\n상승 1,820 \\n\\n\\n\\t\\t\\t\\t+28.89%\\n\\t\\t\\t\\t\\n\\n\\n\\nHJ중공업\\n13,910\\n상승 2,480 \\n\\n\\n\\t\\t\\t\\t+21.70%\\n\\t\\t\\t\\t\\n\\n\\n\\n카카오\\n63,400\\n상승 6,600 \\n\\n\\n\\t\\t\\t\\t+11.62%\\n\\t\\t\\t\\t\\n\\n\\n\\n데브시스터즈\\n51,800\\n상승 5,100 \\n\\n\\n\\t\\t\\t\\t+10.92%\\n\\t\\t\\t\\t\\n\\n\\n\\n바이오다인\\n16,050\\n상승 1,550 \\n\\n\\n\\t\\t\\t\\t+10.69%\\n\\t\\t\\t\\t\\n\\n\\n\\n두산테스나\\n33,950\\n상승 2,900 \\n\\n\\n\\t\\t\\t\\t+9.34%\\n\\t\\t\\t\\t\\n\\n\\n\\n휴온스글로벌\\n48,650\\n상승 4,050 \\n\\n\\n\\t\\t\\t\\t+9.08%\\n\\t\\t\\t\\t\\n\\n\\n\\n에스와이스틸텍\\n4,570\\n상승 380 \\n\\n\\n\\t\\t\\t\\t+9.07%\\n\\t\\t\\t\\t\\n\\n\\n\\n아이패밀리에스씨\\n17,240\\n상승 1,350 \\n\\n\\n\\t\\t\\t\\t+8.50%\\n\\t\\t\\t\\t\\n\\n\\n\\n이오테크닉스\\n231,000\\n상승 18,000 \\n\\n\\n\\t\\t\\t\\t+8.45%\\n\\t\\t\\t\\t\\n\\n\\n\\n달바글로벌\\n234,000\\n상승 16,500 \\n\\n\\n\\t\\t\\t\\t+7.59%\\n\\t\\t\\t\\t\\n\\n\\n\\n비보존 제약\\n7,670\\n상승 520 \\n\\n\\n\\t\\t\\t\\t+7.27%\\n\\t\\t\\t\\t\\n\\n\\n\\n쿠콘\\n36,450\\n상승 2,450 \\n\\n\\n\\t\\t\\t\\t+7.21%\\n\\t\\t\\t\\t\\n\\n\\n\\n하이브\\n277,500\\n상승 18,500 \\n\\n\\n\\t\\t\\t\\t+7.14%\\n\\t\\t\\t\\t\\n\\n\\n\\nHD현대마린엔진\\n81,600\\n상승 5,200 \\n\\n\\n\\t\\t\\t\\t+6.81%\\n\\t\\t\\t\\t\\n\\n\\n\\n\\n상승 더보기\\n\\n\\n\\n하락 TOP 종목종목명에 대한 현재가, 전일대비, 등락률로 구분되어 있습니다.\\n\\n\\n\\n\\n\\n\\n종목명\\n현재가\\n전일대비\\n등락률\\n\\n\\n\\n\\n알파녹스\\n2,975\\n하한가 -1,275\\n\\n\\n\\t\\t\\t\\t-30.00%\\n\\t\\t\\t\\t\\n\\n\\n\\n네이처셀\\n19,230\\n하락 -5,520\\n\\n\\n\\t\\t\\t\\t-22.30%\\n\\t\\t\\t\\t\\n\\n\\n\\n알엔투테크놀로지\\n5,330\\n하락 -1,020\\n\\n\\n\\t\\t\\t\\t-16.06%\\n\\t\\t\\t\\t\\n\\n\\n\\n캔버스엔\\n1,461\\n하락 -209\\n\\n\\n\\t\\t\\t\\t-12.51%\\n\\t\\t\\t\\t\\n\\n\\n\\n썸에이지\\n449\\n하락 -64\\n\\n\\n\\t\\t\\t\\t-12.48%\\n\\t\\t\\t\\t\\n\\n\\n\\n일정실업\\n12,770\\n하락 -1,590\\n\\n\\n\\t\\t\\t\\t-11.07%\\n\\t\\t\\t\\t\\n\\n\\n\\n대신 S&P 인버스 2X 천연가스 선물 ETN\\n28,185\\n하락 -2,685\\n\\n\\n\\t\\t\\t\\t-8.70%\\n\\t\\t\\t\\t\\n\\n\\n\\n삼성 인버스 2X 천연가스 선물 ETN D\\n22,935\\n하락 -2,175\\n\\n\\n\\t\\t\\t\\t-8.66%\\n\\t\\t\\t\\t\\n\\n\\n\\n한투 블룸버그 인버스 2X 천연가스선물 ETN\\n28,470\\n하락 -2,650\\n\\n\\n\\t\\t\\t\\t-8.52%\\n\\t\\t\\t\\t\\n\\n\\n\\n신한 인버스2X 천연가스 선물 ETN B\\n25,460\\n하락 -2,295\\n\\n\\n\\t\\t\\t\\t-8.27%\\n\\t\\t\\t\\t\\n\\n\\n\\n하나 블룸버그 -2X 천연가스 선물 ETN(H)\\n29,655\\n하락 -2,670\\n\\n\\n\\t\\t\\t\\t-8.26%\\n\\t\\t\\t\\t\\n\\n\\n\\nKB 블룸버그 인버스2X 천연가스선물 ETN(H)\\n29,540\\n하락 -2,650\\n\\n\\n\\t\\t\\t\\t-8.23%\\n\\t\\t\\t\\t\\n\\n\\n\\n아바코\\n13,550\\n하락 -1,210\\n\\n\\n\\t\\t\\t\\t-8.20%\\n\\t\\t\\t\\t\\n\\n\\n\\n비투엔\\n1,457\\n하락 -125\\n\\n\\n\\t\\t\\t\\t-7.90%\\n\\t\\t\\t\\t\\n\\n\\n\\n코텍\\n9,270\\n하락 -790\\n\\n\\n\\t\\t\\t\\t-7.85%\\n\\t\\t\\t\\t\\n\\n\\n\\n\\n하락 더보기\\n\\n\\n\\n하락 TOP 종목종목명에 대한 현재가, 전일대비, 등락률로 구분되어 있습니다.\\n\\n\\n\\n\\n\\n\\n종목명\\n현재가\\n전일대비\\n등락률\\n\\n\\n\\n\\n네이처셀\\n19,240\\n하락 -5,510\\n\\n\\n\\t\\t\\t\\t-22.26%\\n\\t\\t\\t\\t\\n\\n\\n\\nSNT다이내믹스\\n54,800\\n하락 -4,600\\n\\n\\n\\t\\t\\t\\t-7.74%\\n\\t\\t\\t\\t\\n\\n\\n\\n산일전기\\n120,800\\n하락 -9,300\\n\\n\\n\\t\\t\\t\\t-7.15%\\n\\t\\t\\t\\t\\n\\n\\n\\n지역난방공사\\n83,200\\n하락 -6,100\\n\\n\\n\\t\\t\\t\\t-6.83%\\n\\t\\t\\t\\t\\n\\n\\n\\n스피어\\n12,270\\n하락 -830\\n\\n\\n\\t\\t\\t\\t-6.34%\\n\\t\\t\\t\\t\\n\\n\\n\\n덕산네오룩스\\n37,950\\n하락 -2,300\\n\\n\\n\\t\\t\\t\\t-5.71%\\n\\t\\t\\t\\t\\n\\n\\n\\n와이바이오로직스\\n11,200\\n하락 -580\\n\\n\\n\\t\\t\\t\\t-4.92%\\n\\t\\t\\t\\t\\n\\n\\n\\n미래나노텍\\n12,410\\n하락 -600\\n\\n\\n\\t\\t\\t\\t-4.61%\\n\\t\\t\\t\\t\\n\\n\\n\\nHLB\\n44,600\\n하락 -1,900\\n\\n\\n\\t\\t\\t\\t-4.09%\\n\\t\\t\\t\\t\\n\\n\\n\\n삼천당제약\\n183,300\\n하락 -7,600\\n\\n\\n\\t\\t\\t\\t-3.98%\\n\\t\\t\\t\\t\\n\\n\\n\\nSNT홀딩스\\n53,700\\n하락 -2,200\\n\\n\\n\\t\\t\\t\\t-3.94%\\n\\t\\t\\t\\t\\n\\n\\n\\n롯데렌탈\\n29,700\\n하락 -1,200\\n\\n\\n\\t\\t\\t\\t-3.88%\\n\\t\\t\\t\\t\\n\\n\\n\\n에이비엘바이오\\n73,800\\n하락 -2,800\\n\\n\\n\\t\\t\\t\\t-3.66%\\n\\t\\t\\t\\t\\n\\n\\n\\n셀트리온\\n172,000\\n하락 -6,500\\n\\n\\n\\t\\t\\t\\t-3.64%\\n\\t\\t\\t\\t\\n\\n\\n\\n케이씨에스\\n8,980\\n하락 -330\\n\\n\\n\\t\\t\\t\\t-3.54%\\n\\t\\t\\t\\t\\n\\n\\n\\n\\n하락 더보기\\n\\n\\n\\n시가총액 상위 TOP 종목종목명에 대한 현재가, 전일대비, 등락률로 구분되어 있습니다.\\n\\n\\n\\n\\n\\n\\n종목명\\n현재가\\n전일대비\\n등락률\\n\\n\\n\\n\\n삼성전자\\n70,300\\n상승 1,500\\n\\n\\n\\t\\t\\t\\t+2.18%\\n\\t\\t\\t\\t\\n\\n\\n\\nSK하이닉스\\n260,500\\n상승 2,000\\n\\n\\n\\t\\t\\t\\t+0.77%\\n\\t\\t\\t\\t\\n\\n\\n\\nLG에너지솔루션\\n385,500\\n상승 1,500\\n\\n\\n\\t\\t\\t\\t+0.39%\\n\\t\\t\\t\\t\\n\\n\\n\\n삼성바이오로직스\\n1,026,000\\n하락 5,000\\n\\n\\n\\t\\t\\t\\t-0.48%\\n\\t\\t\\t\\t\\n\\n\\n\\n한화에어로스페이스\\n926,000\\n하락 10,000\\n\\n\\n\\t\\t\\t\\t-1.07%\\n\\t\\t\\t\\t\\n\\n\\n\\n삼성전자우\\n57,500\\n상승 800\\n\\n\\n\\t\\t\\t\\t+1.41%\\n\\t\\t\\t\\t\\n\\n\\n\\nKB금융\\n114,200\\n하락 1,400\\n\\n\\n\\t\\t\\t\\t-1.21%\\n\\t\\t\\t\\t\\n\\n\\n\\n현대차\\n212,500\\n상승 2,000\\n\\n\\n\\t\\t\\t\\t+0.95%\\n\\t\\t\\t\\t\\n\\n\\n\\nHD현대중공업\\n474,250\\n상승 7,750\\n\\n\\n\\t\\t\\t\\t+1.66%\\n\\t\\t\\t\\t\\n\\n\\n\\n두산에너빌리티\\n65,300\\n하락 1,000\\n\\n\\n\\t\\t\\t\\t-1.51%\\n\\t\\t\\t\\t\\n\\n\\n\\n기아\\n101,800\\n보합\\n\\n\\n\\t\\t\\t\\t0.00%\\n\\t\\t\\t\\t\\n\\n\\n\\n셀트리온\\n172,050\\n하락 6,450\\n\\n\\n\\t\\t\\t\\t-3.61%\\n\\t\\t\\t\\t\\n\\n\\n\\nNAVER\\n234,750\\n상승 6,250\\n\\n\\n\\t\\t\\t\\t+2.74%\\n\\t\\t\\t\\t\\n\\n\\n\\n한화오션\\n116,900\\n상승 2,700\\n\\n\\n\\t\\t\\t\\t+2.36%\\n\\t\\t\\t\\t\\n\\n\\n\\n신한지주\\n68,700\\n보합\\n\\n\\n\\t\\t\\t\\t0.00%\\n\\t\\t\\t\\t\\n\\n\\n\\n\\n시가총액 상위 더보기\\n\\n\\n\\n시가총액 상위 TOP 종목종목명에 대한 현재가, 전일대비, 등락률로 구분되어 있습니다.\\n\\n\\n\\n\\n\\n\\n종목명\\n현재가\\n전일대비\\n등락률\\n\\n\\n\\n\\n삼성전자\\n70,200\\n상승 1,400\\n\\n\\n\\t\\t\\t\\t+2.03%\\n\\t\\t\\t\\t\\n\\n\\n\\nSK하이닉스\\n260,500\\n상승 2,000\\n\\n\\n\\t\\t\\t\\t+0.77%\\n\\t\\t\\t\\t\\n\\n\\n\\nLG에너지솔루션\\n385,000\\n상승 1,000\\n\\n\\n\\t\\t\\t\\t+0.26%\\n\\t\\t\\t\\t\\n\\n\\n\\n삼성바이오로직스\\n1,026,000\\n하락 5,000\\n\\n\\n\\t\\t\\t\\t-0.48%\\n\\t\\t\\t\\t\\n\\n\\n\\n한화에어로스페이스\\n927,000\\n하락 9,000\\n\\n\\n\\t\\t\\t\\t-0.96%\\n\\t\\t\\t\\t\\n\\n\\n\\nKB금융\\n114,200\\n하락 1,400\\n\\n\\n\\t\\t\\t\\t-1.21%\\n\\t\\t\\t\\t\\n\\n\\n\\n현대차\\n212,500\\n상승 2,000\\n\\n\\n\\t\\t\\t\\t+0.95%\\n\\t\\t\\t\\t\\n\\n\\n\\nHD현대중공업\\n474,000\\n상승 7,500\\n\\n\\n\\t\\t\\t\\t+1.61%\\n\\t\\t\\t\\t\\n\\n\\n\\n두산에너빌리티\\n65,300\\n하락 1,000\\n\\n\\n\\t\\t\\t\\t-1.51%\\n\\t\\t\\t\\t\\n\\n\\n\\n기아\\n101,700\\n하락 100\\n\\n\\n\\t\\t\\t\\t-0.10%\\n\\t\\t\\t\\t\\n\\n\\n\\n셀트리온\\n172,000\\n하락 6,500\\n\\n\\n\\t\\t\\t\\t-3.64%\\n\\t\\t\\t\\t\\n\\n\\n\\nNAVER\\n235,000\\n상승 6,500\\n\\n\\n\\t\\t\\t\\t+2.84%\\n\\t\\t\\t\\t\\n\\n\\n\\n한화오션\\n116,900\\n상승 2,700\\n\\n\\n\\t\\t\\t\\t+2.36%\\n\\t\\t\\t\\t\\n\\n\\n\\n신한지주\\n68,900\\n상승 200\\n\\n\\n\\t\\t\\t\\t+0.29%\\n\\t\\t\\t\\t\\n\\n\\n\\n삼성물산\\n164,700\\n상승 1,800\\n\\n\\n\\t\\t\\t\\t+1.10%\\n\\t\\t\\t\\t\\n\\n\\n\\n\\n시가총액 상위 더보기\\n\\n\\n\\n\\n\\n\\n오늘의 증시\\n\\n\\n실시간\\n실시간으로 지수 데이터를 제공 중입니다.\\n\\n\\n\\t\\t                                    \\n\\t\\t                                    \\t\\n\\t\\t                                    \\t\\n\\t\\t                                    \\t2025.08.07  15:15장중\\n\\n\\n\\n\\n\\n\\n코스피\\n\\n\\n3,217.07\\n18.93\\n+0.59%\\n상승\\n\\n\\n\\n\\n\\n코스피 시세 차트\\n\\n\\n\\n\\n개인\\n-595억원\\n외국인\\n-804억원\\n기관\\n+417억원\\n\\n\\n상한종목수\\n0\\n상승종목수\\n411\\n보합종목수\\n69\\n하락종목수\\n455\\n하한종목수\\n0\\n\\n\\n\\n\\n\\n코스닥\\n\\n\\n805.02\\n1.53\\n+0.19%\\n상승\\n\\n\\n\\n\\n\\n코스닥 시세 차트\\n\\n\\n\\n\\n개인\\n+1,013억원\\n외국인\\n-647억원\\n기관\\n-220억원\\n\\n\\n상한종목수\\n3\\n상승종목수\\n847\\n보합종목수\\n111\\n하락종목수\\n768\\n하한종목수\\n1\\n\\n\\n\\n\\n\\n코스피200\\n\\n\\n433.71\\n3.03\\n+0.70%\\n상승\\n\\n\\n\\n\\n\\n코스피200 시세 차트\\n\\n\\n\\n\\n개인\\n-1,387억원\\n외국인\\n-458억원\\n기관\\n+854억원\\n\\n\\n\\n\\n프로그램\\n-2,831억\\n베이시스\\n+0.19\\n\\t\\t                                            \\t\\n\\t\\t                                            \\t\\t\\n\\t\\t                                            \\t\\t\\t\\n\\n\\n\\n\\n\\n\\n\\n\\n업종상위\\n\\n\\n1\\n\\n양방향미디어와..\\n\\n\\t\\t\\t\\t+6.28%\\n\\t\\t\\t\\t\\n\\n\\n메쎄이상\\n\\n\\t\\t\\t\\t+12.32%\\n\\t\\t\\t\\t\\n\\n\\n카카오\\n\\n\\t\\t\\t\\t+11.44%\\n\\t\\t\\t\\t\\n\\n\\n\\n2\\n\\n비철금속\\n\\n\\t\\t\\t\\t+3.65%\\n\\t\\t\\t\\t\\n\\n\\n고려아연\\n\\n\\t\\t\\t\\t+6.52%\\n\\t\\t\\t\\t\\n\\n\\n삼보산업\\n\\n\\t\\t\\t\\t+6.39%\\n\\t\\t\\t\\t\\n\\n\\n\\n3\\n\\n방송과엔터테인..\\n\\n\\t\\t\\t\\t+3.34%\\n\\t\\t\\t\\t\\n\\n\\n빌리언스\\n\\n\\t\\t\\t\\t+29.77%\\n\\t\\t\\t\\t\\n\\n\\n하이브\\n\\n\\t\\t\\t\\t+7.14%\\n\\t\\t\\t\\t\\n\\n\\n\\n업종상위 더보기\\n\\n\\n테마상위\\n\\n\\n1\\n\\n인터넷 대표주\\n\\n\\t\\t\\t\\t+7.09%\\n\\t\\t\\t\\t\\n\\n\\n\\n\\t\\t\\t\\t\\t\\t\\t\\t\\t카카오\\n\\t\\t\\t\\t\\t\\t\\t\\t\\t\\n\\n\\t\\t\\t\\t+11.44%\\n\\t\\t\\t\\t\\n\\n\\n\\n\\t\\t\\t\\t\\t\\t\\t\\t\\tNAVER\\n\\t\\t\\t\\t\\t\\t\\t\\t\\t\\n\\n\\t\\t\\t\\t+2.74%\\n\\t\\t\\t\\t\\n\\n\\n\\n2\\n\\n2025 하반기 신..\\n\\n\\t\\t\\t\\t+5.43%\\n\\t\\t\\t\\t\\n\\n\\n\\n\\t\\t\\t\\t\\t\\t\\t\\t\\t아이티켐\\n\\t\\t\\t\\t\\t\\t\\t\\t\\t\\n\\n\\t\\t\\t\\t+88.51%\\n\\t\\t\\t\\t\\n\\n\\n\\n\\t\\t\\t\\t\\t\\t\\t\\t\\t도우인시스\\n\\t\\t\\t\\t\\t\\t\\t\\t\\t\\n\\n\\t\\t\\t\\t+4.46%\\n\\t\\t\\t\\t\\n\\n\\n\\n3\\n\\n모더나(MODERNA)\\n\\n\\t\\t\\t\\t+4.75%\\n\\t\\t\\t\\t\\n\\n\\n\\n\\t\\t\\t\\t\\t\\t\\t\\t\\t엔투텍\\n\\t\\t\\t\\t\\t\\t\\t\\t\\t\\n\\n\\t\\t\\t\\t+29.83%\\n\\t\\t\\t\\t\\n\\n\\n\\n\\t\\t\\t\\t\\t\\t\\t\\t\\t소마젠\\n\\t\\t\\t\\t\\t\\t\\t\\t\\t\\n\\n\\t\\t\\t\\t+0.66%\\n\\t\\t\\t\\t\\n\\n\\n\\n테마상위 더보기\\n\\n\\n\\n\\n\\n\\n환전 고시 환율\\n\\n환전 고시 환율통화명에 대한 현재가,전일대비로 구분되어 있습니다.\\n\\n\\n\\n\\n\\n\\n\\n구분\\n현재가\\n전일대비\\n\\n\\n\\n\\n미국USD\\n1,383.10\\n하락 2.40\\n\\n\\n일본JPY (100엔)\\n939.35\\n하락 1.41\\n\\n\\n유럽연합EUR\\n1,614.15\\n하락 2.11\\n\\n\\n중국CNY\\n192.59\\n하락 0.24\\n\\n\\n\\n2025.08.07 15:11 하나은행 기준\\n환전 고시 환율 더보기\\n\\n\\n국제 시장 환율\\n\\n국제 시장 환율통화명에 대한 현재가,전일대비로 구분되어 있습니다.\\n\\n\\n\\n\\n\\n\\n\\n구분\\n현재가\\n전일대비\\n\\n\\n\\n\\n달러/일본 엔(08.06)\\n147.3800\\n하락 0.07\\n\\n\\n 유로/달러(08.06)\\n1.1626\\n상승 0.01\\n\\n\\n 파운드/달러(08.06)\\n1.3329\\n상승 0.00\\n\\n\\n 달러인덱스(08.06)\\n97.9800\\n하락 0.60\\n\\n\\n\\n국제 시장 환율 더보기\\n\\n\\n금리\\n\\n금리종류에 대한 현재가,전일대비로 구분되어 있습니다.\\n\\n\\n\\n\\n\\n\\n\\n구분\\n현재가\\n전일대비\\n\\n\\n\\n\\nCD(91일)(08.06)\\n2.50\\n보합\\n\\n\\n콜금리(08.06)\\n2.49\\n하락 0.01\\n\\n\\n국고채(3년)(08.06)\\n2.43\\n상승 0.01\\n\\n\\n회사채(3년)(08.06)\\n2.91\\n보합\\n\\n\\n\\n금리 더보기\\n\\n\\n\\n\\n유가\\n\\n유가종류에 대한 현재가,전일대비로 구분되어 있습니다.\\n\\n\\n\\n\\n\\n\\n\\n구분\\n현재가\\n전일대비\\n\\n\\n\\n\\n두바이유(08.06)\\n69.16\\n하락 0.41\\n\\n\\n WTI(08.06)\\n64.35\\n하락 0.81\\n\\n\\n 휘발유(08.07)\\n1,669.79\\n하락 0.12\\n\\n\\n 고급휘발유(08.07)\\n1,920.31\\n하락 0.32\\n\\n\\n\\n단위|국제:달러/배럴,\\n\\t\\t\\t\\t\\t\\t 국내:원/리터\\n\\t\\t\\t\\t\\t\\t\\n유가 더보기\\n\\n\\n금 시세\\n\\n금 시세종류에 대한 현재가,전일대비로 구분되어 있습니다.\\n\\n\\n\\n\\n\\n\\n\\n구분\\n현재가\\n전일대비\\n\\n\\n\\n\\n국제금(08.06)\\n3,433.40\\n하락 1.30\\n\\n\\n 국내금(08.07)\\n150,248.51\\n하락 239.28\\n\\n\\n\\n단위|국제:달러/트로이온스,\\n\\t\\t\\t\\t\\t\\t 국내:원/g\\n금 시세 더보기\\n\\n\\n원자재\\n\\n원자재종류에 대한 현재가,전일대비로 구분되어 있습니다.\\n\\n\\n\\n\\n\\n\\n\\n구분\\n현재가\\n전일대비\\n\\n\\n\\n\\n구리(08.06)\\n9,604.50\\n상승 28.00\\n\\n\\n납(08.06)\\n1,952.00\\n상승 32.50\\n\\n\\n천연가스(08.06)\\n3.08\\n상승 0.07\\n\\n\\n옥수수(08.06)\\n401.25\\n하락 0.75\\n\\n\\n\\n단위|구리·납:달러/톤\\n\\t\\t\\t\\t\\t\\t천연가스: 달러/MMBtu, 옥수수: 센트/부셸\\n원자재 더보기\\n\\n\\n\\n\\n\\n\\n\\n해외 증시\\n\\n해외 증시종류에 대한 현재가,전일대비로 구분되어 있습니다.\\n\\n\\n\\n\\n\\n\\n\\n구분\\n현재가\\n전일대비\\n\\n\\n\\n\\n다우산업(08.06)\\n44,193.12\\n상승 81.38\\n\\n\\n 나스닥(08.06)\\n21,169.42\\n상승 252.87\\n\\n\\n 홍콩H(08.07)\\n8,975.02\\n상승 42.34\\n\\n\\n 상해종합(08.07)\\n3,638.99\\n상승 5.00\\n\\n\\n 니케이225(08.07)\\n41,025.12\\n상승 230.26\\n\\n\\n\\n해외 증시 더보기\\n\\n\\n\\n\\n광고\\n\\n\\n\\n\\n\\n\\n인기 검색 종목\\n\\n인기 검색 종목표종목명에 대한 현재가,전일대비로 구분되어 있습니다.\\n\\n\\n\\n\\n\\n\\n\\n구분\\n현재가\\n전일대비\\n\\n\\n\\n\\n1.카카오\\n63,300\\n\\n상승\\n\\t\\t\\t\\t6,500\\n\\t\\t\\t\\t\\n\\n\\n\\n2.삼성전자\\n70,300\\n\\n상승\\n\\t\\t\\t\\t1,500\\n\\t\\t\\t\\t\\n\\n\\n\\n3.대한조선\\n107,000\\n\\n하락\\n\\t\\t\\t\\t700\\n\\t\\t\\t\\t\\n\\n\\n\\n4.네이처셀\\n19,230\\n\\n하락\\n\\t\\t\\t\\t5,520\\n\\t\\t\\t\\t\\n\\n\\n\\n5.두산에너빌리..\\n65,300\\n\\n하락\\n\\t\\t\\t\\t1,000\\n\\t\\t\\t\\t\\n\\n\\n\\n\\n인기 검색 종목 더보기\\n\\n\\n공지사항\\n\\n종토방 인기랭킹 TOP 10 이벤...\\n토론방이 새롭게 리뉴얼되었습니다!\\n\\n공지사항 더보기\\n\\n\\n\\n\\n\\n\\n\\n\\n이용약관\\n\\n\\n개인정보처리방침\\n\\n\\n게시판 운영원칙\\n\\n\\n증권 고객센터\\n\\n\\n\\n\\t\\t\\t네이버파이낸셜(주)이 제공하는 금융 정보는 콘텐츠 제공업체로부터 받는 투자 참고사항이며, 오류가 발생하거나 지연될 수 있습니다.\\n\\t\\t\\t네이버파이낸셜(주)과 콘텐츠 제공업체는 제공된 정보에 의한 투자 결과에 법적인 책임을 지지 않습니다. 게시된 정보는 무단으로 배포할 수 없습니다.\\n\\t\\t\\n국내 증시 기본 데이터는 한국거래소(KRX)에서 제공합니다.\\n\\n\\n\\n\\n네이버파이낸셜에 콘텐츠 제공\\n\\n에프앤가이드 기업 및 재무정보\\nKG제로인 해외 시세, 시장지표 정보\\n한국예탁결제원 주주총회일, 전자투표 정보\\n인포스탁 국내 테마 정보\\n\\t\\t\\t\\n\\n네이버에 콘텐츠 제공\\n\\n코스콤 국내 시세 정보\\n\\t\\t\\t\\t\\n\\n\\n\\n\\n\\n\\n\\n\\n\\n\\n\\n\\n\\n\\n\\n\\n')],\n",
       " [Document(metadata={'source': 'https://finance.yahoo.com/', 'title': 'Yahoo Finance - Stock Market Live, Quotes, Business & Finance News', 'description': 'At Yahoo Finance, you get free stock quotes, up-to-date news, portfolio management resources, international market data, social interaction and mortgage rates that help you manage your financial life.', 'language': 'en-US'}, page_content=\"\\n\\n\\n\\n\\n\\n\\n\\n\\n\\n\\n\\n\\n\\n\\n\\n\\n\\n\\n\\n\\n\\n\\n\\n\\n\\n\\n\\n\\n\\n\\n\\n\\n\\n\\n\\n\\n\\n\\n\\n\\n\\n\\n\\n\\n\\n\\n\\n\\n\\n\\n\\n\\n\\n\\n\\n\\n\\n\\n\\n\\n\\n\\n\\n\\n\\n\\n\\n\\n\\n\\nYahoo Finance - Stock Market Live, Quotes, Business & Finance News        \\n\\n\\n\\n   Something went wrong     Skip to navigation   Skip to main content   Skip to right column             News  Today's news   US   Politics   World   Tech  Audio   Computing   Gaming   Wordle   Home entertainment   TVs   Phones   Science   Streaming   Streaming reviews   VPN   Wearables   Deals   Prime Day 2025   Best Amazon Prime Day deals   More   AI Apps AR and VR Business Cameras Cyber security Entertainment General Smart home Social media Transportation      Weather   Climate change   Health  Wellness   Mental health Sexual health Dermatology Oral health Hair loss Foot health   Nutrition   Healthy eating Meal delivery Weight loss Vitamins and supplements   Fitness   Equipment Exercise   Women’s health   Sleep   Healthy aging   Hearing Mobility      Science   Originals  The 360      Newsletters   Games    Life  Health  Wellness   Mental health Sexual health Dermatology Oral health Hair loss Foot health   Nutrition   Healthy eating Meal delivery Weight loss Vitamins and supplements   Fitness   Equipment Exercise   Women’s health   Sleep   Healthy aging   Hearing Mobility      Parenting  Family health   So mini ways      Style and beauty  It Figures   Unapologetically      Horoscopes   Shopping  Style   Accessories Clothing Luggage Shoes   Beauty   Hair Makeup Skincare Sunscreen   Health   Dental Fitness Hair loss Hearing aids Mental health Mobility Nutrition Personal care Sleep Women's health   Home & Garden   Bedding Cleaning Gardening Kitchen Outdoor   Pets   Tech   Accessories Audio Auto Computers Phones Smart home TVs   Gift ideas   Stores   Amazon Best Buy Home Depot Macy's Nordstrom Target Walmart Wayfair   Shopping Guides   Best non-toxic cutting boards Best heated socks Best body wash Best cordless stick vacuums Best makeup removers   Deals   Father’s Day gifts   Best Father’s Day gifts Best Father’s Day gifts under $50   Prime Day 2025   Best Amazon Prime Day deals      Food   Travel   Autos   Gift ideas   Buying guides    Entertainment  Celebrity   TV   Movies   Music   How to Watch   Interviews   Videos     Finance  My Portfolio   News  Latest   Stock Market   Originals   Tariff Updates   Newsletters   Economies   Earnings   Tech   Housing   Crypto   Mergers & IPOs   Electric Vehicles   Inflation      Markets  Stocks: Most Actives   Stocks: Gainers   Stocks: Losers   Trending Tickers   Futures   World Indices   US Treasury Bonds Rates   Currencies   Crypto   Top ETFs   Top Mutual Funds   Options: Highest Open Interest   Options: Highest Implied Volatility   Sectors   Basic Materials   Communication Services   Consumer Cyclical   Consumer Defensive   Energy   Financial Services   Healthcare   Industrials   Real Estate   Technology   Utilities   Private Companies      Research  Screeners   Earnings Calendar   Economic Calendar   Stock Comparison   Advanced Chart   Currency Converter      Personal Finance  Credit Cards   Banking   Student Loans   Personal Loans   Insurance   Mortgages   Mortgage Calculator   Taxes      Videos  Latest   Trending Stocks   Market Sunrise   Morning Brief   Opening Bid   All Shows   Editor's Picks   Stocks in Translation   Trader Talk   Financial Freestyle   ETF Report      Watch Now    Sports  Fantasy  News   Fantasy football   Best ball   Pro Pick 'Em   College Pick 'Em   Fantasy baseball   Fantasy hockey   Fantasy basketball   Download the app      Daily fantasy   NFL  News   Scores and schedules   Standings   Stats   Teams   Players   Drafts   Injuries   Odds   Super Bowl   GameChannel   Videos      NBA  News   Draft   Scores and schedules   Standings   Stats   Teams   Players   Inuries   Videos   Odds   Playoffs      MLB  News   Scores and schedules   Standings   Stats   Teams   Players   Odds   Videos   World Baseball Classic      NHL  News   Scores and schedules   Standings   Stats   Teams   Players   Odds   Playoffs      College football  News   Scores and schedules   Standings   Rankings   Stats   Teams      College basketball   Soccer  News   Scores and schedules   Premier League   MLS   NWSL   Liga MX   CONCACAF League   Champions League   La Liga   Serie A   Bundesliga   Ligue 1   World Cup      NFL Draft   Yahoo Sports AM   Show all  WNBA   Sportsbook   NCAAF   Tennis   Golf   NASCAR   NCAAB   NCAAW   Boxing   USFL   Cycling   Motorsports   Olympics   Horse racing   GameChannel   Rivals   Newsletters   Podcasts   Videos   RSS   Jobs   Help   World Cup   More news       New on Yahoo  Creators   Tech   Local services     Terms  Privacy  Privacy Dashboard   Feedback   © 2025  All rights reserved.  About our ads  Advertising  Careers    Yahoo Finance                                    Yahoo Finance    Search query                Select edition  USEnglish   US y LATAMEspañol  AustraliaEnglish  CanadaEnglish  CanadaFrançais  DeutschlandDeutsch  FranceFrançais  香港繁中  MalaysiaEnglish  New ZealandEnglish  SingaporeEnglish  台灣繁中  UKEnglish     News   Finance   Sports   More News Today's news  US  Politics  World  Weather  Climate change  Health  Science  Originals  Newsletters  Games   Life Health  Parenting  Style and beauty  Horoscopes  Shopping  Food  Travel  Autos  Gift ideas  Buying guides   Entertainment Celebrity  TV  Movies  Music  How to Watch  Interviews  Videos   Finance My portfolio  Watchlists  Markets  News  Videos  Screeners  Personal finance  Crypto  Sectors   Sports Fantasy  NFL  NBA  MLB  NHL  College football  College basketball  Soccer  NFL Draft  Yahoo Sports AM    New on Yahoo Creators Tech Local services    Selected edition   USEnglish             Mail       Sign in       My Portfolio    News    Latest Stock Market Originals Tariff Updates Newsletters Economies Earnings Tech Housing Crypto Mergers & IPOs Electric Vehicles Inflation    Markets    Stocks: Most Actives Stocks: Gainers Stocks: Losers Trending Tickers Futures World Indices US Treasury Bonds Rates Currencies Crypto Top ETFs Top Mutual Funds Options: Highest Open Interest Options: Highest Implied Volatility Sectors Basic Materials Communication Services Consumer Cyclical Consumer Defensive Energy Financial Services Healthcare Industrials Real Estate Technology Utilities Private Companies    Research    Screeners Earnings Calendar Economic Calendar Stock Comparison Advanced Chart Currency Converter    Personal Finance    Credit Cards Banking Student Loans Personal Loans Insurance Mortgages Mortgage Calculator Taxes    Videos    Latest Trending Stocks Market Sunrise Morning Brief Opening Bid All Shows Editor's Picks Stocks in Translation Trader Talk Financial Freestyle ETF Report     Watch Now    …                   Trump's tariffs hit dozens of countries as trade deadline expires New 'reciprocal' tariffs are now in force, with duties ranging from 10% to 50% on imports from US trading partners worldwide.  Yahoo Finance • 2 hours ago       Apple announces $100 billion US investment at White House   Yahoo Finance • 8 hours ago   AAPL        GLW             Apple set to dodge bulk of India tariffs, including on iPhones   Yahoo Finance • 10 hours ago   AAPL               Trump plans 100% tariff on semiconductors   Yahoo Finance • 8 hours ago   AAPL           Trump says he could hike tariffs on China over Russian oil, like India   Reuters • 7 hours ago     Fed's Daly: Fed will likely need to lower rates as job market has slowed   Yahoo Finance • 9 hours ago     Nvidia's 'most underappreciated' business is taking off    Yahoo Finance • 11 hours ago   NVDA        AMD           DoorDash forecasts strong quarter on resilient delivery demand   Reuters • 10 hours ago   DASH        UBER           Lyft's revenue miss clouds upbeat bookings forecast   Reuters • 10 hours ago   LYFT        UBER           Airbnb issues upbeat outlook, plans $6 billion share buyback   Reuters • 10 hours ago   ABNB           View more    Latest   Container shipping group Maersk posts Q2 profits above forecast, raises full-year outlook   Reuters • 3 minutes ago   MAERSK-B.CO           Toyota reports a 37% drop in profit, cuts its forecast due to Trump's tariffs   Associated Press Finance • 7 minutes ago   7203.T           Analysis-Why the oil market is tight despite big OPEC+ output hikes   Reuters • 8 minutes ago   CL=F           The Latest: Trump's tariffs go into effect   Associated Press Finance • 20 minutes ago     Asian shares mostly climb after a rally for Apple led Wall Street higher   Associated Press Finance • 20 minutes ago   AAPL        CL=F           Toyota says it will build new car factory in Japan   Reuters • 23 minutes ago   7203.T           Rheinmetall slightly misses Q2 sales expectations but confirms target   Reuters • 27 minutes ago   RHM.DE           New US tariffs cloud outlook for exporters in Asia and beyond   Associated Press Finance • 44 minutes ago   HG=F        ALI=F             Popular    Score a Companion Pass with Southwest Rapid Rewards limited-time 100,000-point welcome offer   Yahoo Personal Finance • 12 hours ago     Limited-time offer: Earn up to 185,000 points with three new Marriott Bonvoy credit card bonuses   Yahoo Personal Finance • 6 days ago     New limited-time offer: Earn 125,000 points with the Marriott Bonvoy Business Amex   Yahoo Personal Finance • 6 days ago     Southwest Airlines credit cards have new annual fees — are these cards still worth it?   Yahoo Personal Finance • 7 days ago     Citi launches Strata Elite premium travel credit card. Should you add it to your wallet?   Yahoo Personal Finance • 10 days ago     Southwest revamps its Rapid Rewards cards with a limited-time 100k bonus point offer   Yahoo Personal Finance • 13 days ago     Stock market today: Dow, S&P 500, Nasdaq futures waver as Trump's trade deadline expires, tariffs kick in    LIVE  Yahoo Finance • 2 hours ago   NQ=F        YM=F                Trump, Apple CEO announce $100B US manufacturing investment President Trump and Apple (AAPL) CEO Tim Cook announced Apple's additional $100 billion commitment to manufacturing in the US. Watch the video above to hear Trump's and Cook's remarks from the White House on Thursday. To watch more expert insights and analysis on the latest market action, check out more Yahoo Finance.  8h ago   AAPL               02:19  DoorDash beats on Q2 top and bottom lines   Yahoo Finance Video • 9h ago   DASH              01:12  Lyft stock tumbles on Q2 earnings miss   Yahoo Finance Video • 9h ago   LYFT              01:45  Airbnb beats Q2 estimates and Q3 outlook expectations   Yahoo Finance Video • 9h ago   ABNB              01:08  Warner Bros. earnings, Fed talk, jobless claims: What to Watch   Yahoo Finance Video • 7h ago   CEG        TM           View more        Investment Ideas         Top Daily Gainers   Discover equities with the greatest gains during the trading day   Company Last price Avg. Rating    VSAT  Viasat, Inc.   27.82  + 30.67%   Buy      ALAB  Astera Labs, Inc.   174.39  + 28.66%   Buy      ZETA  Zeta Global Holdings Corp.   20.23  + 27.47%   Buy      RNG  RingCentral, Inc.   29.99  + 26.97%   Buy      RNA  Avidity Biosciences, Inc.   48.26  + 26.14%   Strong Buy     View more    Top Daily Losers   See equities with the greatest losses during the trading day   Company Last price Avg. Rating    LNTH  Lantheus Holdings, Inc.   51.87   -28.58%   Strong Buy      KMPR  Kemper Corporation   48.42   -21.26%   Buy      FUN  Six Flags Entertainment Corporation   24.32   -20.78%   Buy      UPST  Upstart Holdings, Inc.   67.14   -18.74%   Hold      SMCI  Super Micro Computer, Inc.   46.79   -18.29%   Hold     View more    Most Active Stocks   Look at equities with the highest trading volume during the trading day   Company Last price Avg. Rating    SNAP  Snap Inc.   7.78   -17.15%   Hold      AMD  Advanced Micro Devices, Inc.   163.12   -6.42%   Buy      LCID  Lucid Group, Inc.   2.1850   -9.71%   Hold      NVDA  NVIDIA Corporation   179.42  + 0.65%   Strong Buy      SMCI  Super Micro Computer, Inc.   46.79   -18.29%   Hold     View more    Top ETFs   These are top-performing ETFs in the US by asset value and Morningstar Ratings   Company Last price Net assets    GOEX  Global X Gold Explorers ETF   47.91  + 2.99%   61.528M     ARKW  ARK Next Generation Internet ETF   157.09  + 2.73%   2.506B     QLD  ProShares Ultra QQQ   123.54  + 2.51%   9.012B     ARKK  ARK Innovation ETF   74.16  + 2.11%   8.038B     FEMS  First Trust Emerging Markets Small Cap AlphaDEX Fund   42.51  + 2.08%   264.322M    View more    Undervalued Growth Stocks   These highly undervalued equities have strong earnings growth   Company Last price Avg. Rating    GM  General Motors Company   52.47   -0.21%   Buy      ET  Energy Transfer LP   17.86  + 0.73%   Strong Buy      APA  APA Corporation   18.06   -2.85%   Hold      KGC  Kinross Gold Corporation   18.71  + 3.03%   Buy      LAUR  Laureate Education, Inc.   24.47  + 3.25%   Buy     View more         Build Your Wealth View more    Editor's Pick   Editor's Pick These are the 10 wealthiest states in the U.S. by income A closer look at the wealthiest states in the U.S. by income, as well as some additional factors such as net worth and GDP.   Smart Money Moves     When will mortgage rates go down to 5%?       Are men or women better at saving money? What the data says.       The best CD rates on the market right now       Want to buy a house with crypto? What to expect.       A guide for first-time home buyers: What every buyer should know      More Ways to Save     Southwest offer: Score 100,000 points and a Companion Pass        5 ways to save money on back-to-school supplies       What is a credit card spending limit —\\xa0and what to know       New Rakuten American Express card: 4% cash back, no fee       America’s best and worst states for saving money in 2025       View more    Best travel credit cardCompare high-yield savings accountsBest CD ratesMortgage calculatorHow much house can I afford?      Snapshots     Trump's sweeping tariffs are set to come into effect, with a 'tiered' approach The two most common levels are 10% and 15% with other 'bespoke' rates higher up the chain.    Why Trump is imposing an additional 25% tariff on India Yahoo Finance's Ben Werschkul outlines what we know so far about Trump's additional tariffs on India.       Trump’s relentless tariff strategy crashes into delicate geopolitical reality Trump’s use of tariffs to coerce foreign counterparts into deals is about to run headlong into the limits of geopolitical reality.       The latest on tariffs Yahoo Finance is chronicling the latest news and updates on Trump's tariffs. See updates in our live blog.     AAPL        HG=F           More news       Score a Companion Pass with Southwest Rapid Rewards limited-time 100,000-point welcome offer   Yahoo Personal Finance • 12 hours ago       Limited-time offer: Earn up to 185,000 points with three new Marriott Bonvoy credit card bonuses   Yahoo Personal Finance • 6 days ago        New limited-time offer: Earn 125,000 points with the Marriott Bonvoy Business Amex   Yahoo Personal Finance • 6 days ago       Southwest Airlines credit cards have new annual fees — are these cards still worth it?   Yahoo Personal Finance • 7 days ago       Citi launches Strata Elite premium travel credit card. Should you add it to your wallet?   Yahoo Personal Finance • 10 days ago       Southwest revamps its Rapid Rewards cards with a limited-time 100k bonus point offer   Yahoo Personal Finance • 13 days ago       Stock market today: Dow, S&P 500, Nasdaq futures waver as Trump's trade deadline expires, tariffs kick in    LIVE  Yahoo Finance • 2 hours ago   NQ=F        YM=F             Trump tariffs live updates: Trump tariffs hit dozens of countries as trade deadline expires    LIVE  Yahoo Finance • 2 hours ago   AAPL        HG=F              Trump's sweeping tariffs take effect in another dramatic reshaping of the US trade landscape   Yahoo Finance • 2 hours ago       Trump says semiconductors will face 100% tariff unless companies build in US   Yahoo Finance • 8 hours ago   AAPL             These are the best promotional CD rates available in August (up to 4.4% APY)   Yahoo Personal Finance • 8 hours ago          Apple announces additional $100 billion in US investment, following Trump iPhone tariff threat   Yahoo Finance • 8 hours ago   AAPL        GLW             Earnings live: Airbnb beats, DoorDash stock pops, Lyft slides after Uber set the bar high    LIVE  Yahoo Finance • 8 hours ago   UBER        LYFT             Southwest Rapid Rewards Priority Card review: Get up to 4x on purchases, upgraded boarding, and travel credits   Yahoo Personal Finance • 9 hours ago        Stock market today: S&P 500, Nasdaq lead stocks higher as Apple surges   Yahoo Finance • 9 hours ago   ^GSPC        AAPL             Fed's Daly: Fed will likely need to lower rates in coming months as job market has slowed   Yahoo Finance • 9 hours ago       Disney stock slides amid sharp decline in linear TV business as outlook fails to impress   Yahoo Finance • 9 hours ago   DIS             NFL to take 10% stake in Disney's ESPN   Yahoo Finance • 10 hours ago   DIS             Axos Bank review (2025): Rewards checking and high-yield savings with no monthly fees   Yahoo Personal Finance • 10 hours ago       Apple set to dodge bulk of India tariffs   Yahoo Finance • 10 hours ago   AAPL              Trump announces plans for additional 25% tariff on India as he turns up the pressure on Russia to find a truce   Yahoo Finance • 10 hours ago       Can you get a tax break for selling your house at a loss?   Yahoo Personal Finance • 11 hours ago       Southwest Rapid Rewards Plus review: Earn points and in-flight discounts for a low annual fee   Yahoo Personal Finance • 11 hours ago          Nvidia's ‘most underappreciated’ business is taking off like a 'rocket ship'   Yahoo Finance • 11 hours ago   NVDA        AMD             Cash pay is 'going to constitute a major part of the Wegovy business': Novo Nordisk CFO   Yahoo Finance • 12 hours ago   NOVO-B.CO        LLY             Southwest Rapid Rewards Premier Card review: A top choice for Southwest loyalists   Yahoo Personal Finance • 12 hours ago        How and when to add another driver to your car insurance   Yahoo Personal Finance • 12 hours ago       Top brass firings at DOJ raise new questions about Trump's antitrust agenda   Yahoo Finance • 12 hours ago   HPE        AAPL             Southwest Rapid Rewards Performance Business review: Valuable airline perks and an annual anniversary bonus   Yahoo Personal Finance • 12 hours ago       When will mortgage rates go down to 5%?   Yahoo Personal Finance • 14 hours ago       Disney goes all in on streaming with big NFL and WWE deals: Opening Bid top takeaway   Yahoo Finance • 14 hours ago   DIS        AMD             Snap stock plummets as ad platform glitch weighs on Q2 revenue, earnings   Yahoo Finance • 14 hours ago   GOOG        RDDT              The best balance transfer credit cards for 2025: Don't pay any interest until 2026   Yahoo Personal Finance • 14 hours ago       Disney sees big payoff in ESPN's NFL deal, CFO says   Yahoo Finance • 15 hours ago   DIS             Does health insurance cover car accidents?   Yahoo Personal Finance • 15 hours ago          Uber beats on Q2 revenue, gross bookings; launches $20B stock buyback   Yahoo Finance • 15 hours ago   UBER             AMD stock falls more than 6% on disappointing Q2 data center results   Yahoo Finance • 15 hours ago   AMD        NVDA             Lucid CEO: 'Not where we want to be' with Gravity SUV ramp; 'volume' will eventually solve profitability issues   Yahoo Finance • 16 hours ago   LCID        RIVN              McDonald's stock rises after company reverses US sales slump   Yahoo Finance • 16 hours ago   MCD        WSFX.BO             Super Micro Computer stock falls as much as 16% after quarterly results, profit forecast miss estimates   Yahoo Finance • 16 hours ago   SMCI        NVDA             Stock market today: Dow, S&P 500, Nasdaq fall as Wall Street digests earnings, Trump tariffs   Yahoo Finance • 18 hours ago   PLTR        ^DJI             Gold price today, Wednesday, August 6, 2025: Gold opens above $3,400 ahead of reciprocal tariff deadline   Yahoo Personal Finance • 18 hours ago   GC=F             Novo Nordisk reports second quarter earnings missing Wall Street estimates on slower GLP-1 sales   Yahoo Finance • 19 hours ago   NOVO-B.CO        LLY             The best online mortgage lenders this month   Yahoo Personal Finance • 20 hours ago        Mortgage and refinance interest rates today, August 6, 2025: Rates should stay flat this summer   Yahoo Personal Finance • 20 hours ago       Best money market account rates today, August 6, 2025 (secure up to 4.41% APY)   Yahoo Personal Finance • 20 hours ago       The best HELOC lenders right now   Yahoo Personal Finance • 20 hours ago          Best CD rates today, August 6, 2025  (Lock in up to 5.5% APY)   Yahoo Personal Finance • 20 hours ago       HELOC rates today, August 6, 2025: It pays to shop introductory rates for bargains   Yahoo Personal Finance • 20 hours ago       AI and GLP-1s were the hot post-pandemic trades, but only one is thriving   Yahoo Finance • 20 hours ago   HIMS        NVDA                       Copyright © 2025 Yahoo. All rights reserved.     What's trending Dow Jones   S&P 500   DAX Index   Nvidia   Tesla   DJT   Tariffs    Explore more Mortgages   Credit Cards   Sectors   Crypto Heatmap   Financial News    About Data Disclaimer   Help   Feedback   Sitemap   Licensing    What's New   About Our Ads    Terms   and Privacy Policy    Privacy Dashboard    More Info            U.S. markets open in 7h 15m     US    Europe    Asia    Cryptocurrencies    Rates    Commodities    Currencies      S&P Futures   6,386.75 +15.75 (+0.25%)         Dow Futures   44,326.00 +14.00 (+0.03%)         Nasdaq Futures   23,487.75 +65.00 (+0.28%)         Russell 2000 Futures   2,231.90 +2.80 (+0.13%)         VIX   16.77 -1.08 (-6.05%)         Gold   3,447.50 +14.10 (+0.41%)                  Portfolio     Portfolio    Sign in to access your portfolio Sign in       Top gainers       VSAT Viasat, Inc. 27.82 +6.53 (+30.67%)          ALAB Astera Labs, Inc. 174.39 +38.85 (+28.66%)          ZETA Zeta Global Holdings Corp. 20.23 +4.36 (+27.47%)          RNG RingCentral, Inc. 29.99 +6.37 (+26.97%)          RNA Avidity Biosciences, Inc. 48.26 +10.00 (+26.14%)            Top losers       LNTH Lantheus Holdings, Inc. 51.87 -20.76 (-28.58%)          KMPR Kemper Corporation 48.42 -13.07 (-21.26%)          FUN Six Flags Entertainment Corporation 24.32 -6.38 (-20.78%)          UPST Upstart Holdings, Inc. 67.14 -15.48 (-18.74%)          SMCI Super Micro Computer, Inc. 46.79 -10.47 (-18.29%)            Most active       SNAP Snap Inc. 7.78 -1.61 (-17.15%)          AMD Advanced Micro Devices, Inc. 163.12 -11.19 (-6.42%)          LCID Lucid Group, Inc. 2.1850 -0.2350 (-9.71%)          NVDA NVIDIA Corporation 179.42 +1.16 (+0.65%)          SMCI Super Micro Computer, Inc. 46.79 -10.47 (-18.29%)            Earnings events           Trending tickers       AAPL Apple Inc. 213.25 +10.33 (+5.09%)          TSM Taiwan Semiconductor Manufacturing Company Limited 231.37 -1.10 (-0.47%)          ABNB Airbnb, Inc. 130.50 +0.54 (+0.42%)          DASH DoorDash, Inc. 258.08 +2.80 (+1.10%)          APP AppLovin Corporation 390.57 +12.64 (+3.34%)            Top economic events    Top economic events    South Korea      There are no significant events for this country at this time.  Select ‘All’ to see top events in other countries or view all events. View all events       Edit your dock   Terms   and Privacy Policy    Privacy Dashboard   Ad terms   Feedback   More Info          \\n\\n\\n\\n\\n\\n\\n\\n\\n\\n\\n\\n\\n\\n\\n\\n\\n\\n\\n\\n\\n\\n\\n\\n\\n\\n\\n\\n\\n\\n\\n\\n\\n\\n\\n\\n\\n\\n\\n\\n\\n\\n\\n\\n\\n\")],\n",
       " [Document(metadata={'source': 'https://finance.daum.net/', 'title': '다음 금융', 'language': 'ko'}, page_content='\\n\\n\\n\\n\\n\\n\\n\\n다음 금융\\n\\n\\n\\n\\n\\n\\n\\n\\n\\n\\n\\n\\n\\n금융\\n관련서비스\\n검색\\n\\n\\n\\n\\n\\n금융 메인메뉴\\n\\n\\n\\n선택됨\\n홈\\n\\n\\n\\n\\n\\n국내\\n\\n\\n\\n\\n\\n해외\\n\\n\\n\\n\\n\\n뉴스\\n\\n\\n\\n\\n\\n투자정보\\n\\n\\n\\n\\n\\n종목토론\\n\\n\\n\\n\\n\\nMY\\n\\n\\n\\n\\n\\n\\n\\n\\n환율\\n\\n\\n\\n\\n\\n\\n\\n\\n\\n\\n\\n\\n\\n\\n\\n오늘의 증시\\n\\n현지시간 기준\\n\\n\\n국내 지수\\n미국 지수\\n아시아 지수\\n유럽 지수\\n\\n\\n\\n\\n\\n\\n\\n\\n\\n\\n\\n\\n\\n-전 종목 시세 보기\\n\\n\\n\\n\\n\\n\\n\\n\\n\\n\\n\\n\\n\\n\\n\\n\\n\\n\\n\\n서비스 약관/정책\\n금융 고객센터\\n금융 문의하기\\n\\n카카오가 제공하는 증권정보는 단순히 정보의 제공을 목적으로 하고 있으며, 사이트에서 제공되는 정보는 오류 및 지연이발생될 수 있습니다. 제공된 정보이용에 따르는 책임은 이용자 본인에게 있으며, 카카오는 이용자의 투자결과에 따른법적 책임을 지지 않습니다.\\n\\n\\n위 내용에 대한 저작권 및 법적 책임은 자료제공사 또는글쓴이에 있으며 카카오의 입장과 다를 수 있습니다.\\nCopyright (C) Kakao Corp. All rights reserved.\\n\\n\\n\\n\\n\\n\\n\\n\\n')]]"
      ]
     },
     "execution_count": 6,
     "metadata": {},
     "output_type": "execute_result"
    }
   ],
   "source": [
    "docs"
   ]
  },
  {
   "cell_type": "code",
   "execution_count": 7,
   "id": "fa4d0fe1",
   "metadata": {},
   "outputs": [],
   "source": [
    "docs_list = [item for sublist in docs for item in sublist]"
   ]
  },
  {
   "cell_type": "code",
   "execution_count": 10,
   "id": "d0939901",
   "metadata": {},
   "outputs": [],
   "source": [
    "docs_list2 = []\n",
    "for sublist in docs:\n",
    "    for item in sublist:\n",
    "        docs_list2.append(item)"
   ]
  },
  {
   "cell_type": "code",
   "execution_count": 12,
   "id": "d3c99056",
   "metadata": {},
   "outputs": [],
   "source": [
    "text_splitter = RecursiveCharacterTextSplitter.from_tiktoken_encoder(\n",
    "    chunk_size=100, chunk_overlap=50\n",
    ")\n"
   ]
  },
  {
   "cell_type": "code",
   "execution_count": 13,
   "id": "ceef40e9",
   "metadata": {},
   "outputs": [],
   "source": [
    "doc_splits = text_splitter.split_documents(docs_list)\n"
   ]
  },
  {
   "cell_type": "code",
   "execution_count": 14,
   "id": "2f8fce7d",
   "metadata": {},
   "outputs": [],
   "source": [
    "vectorstore = Chroma.from_documents(\n",
    "    documents=doc_splits,\n",
    "    collection_name=\"rag-chroma\",\n",
    "    embedding=OpenAIEmbeddings(),\n",
    ")"
   ]
  },
  {
   "cell_type": "code",
   "execution_count": 15,
   "id": "4114ca8a",
   "metadata": {},
   "outputs": [],
   "source": [
    "retriever = vectorstore.as_retriever()"
   ]
  },
  {
   "cell_type": "markdown",
   "id": "173e74f9",
   "metadata": {},
   "source": [
    "# Agent State \n",
    "- 에이전트 상태를 정의 "
   ]
  },
  {
   "cell_type": "code",
   "execution_count": 17,
   "id": "96529425",
   "metadata": {},
   "outputs": [],
   "source": [
    "from typing import Annotated, Sequence, TypedDict\n",
    "from langchain_core.messages import BaseMessage\n",
    "from langgraph.graph.message import add_messages"
   ]
  },
  {
   "cell_type": "code",
   "execution_count": 18,
   "id": "3c4a41eb",
   "metadata": {},
   "outputs": [],
   "source": [
    "class AgentState(TypedDict):\n",
    "    messages:Annotated[Sequence[BaseMessage], add_messages]"
   ]
  },
  {
   "cell_type": "markdown",
   "id": "59a5f085",
   "metadata": {},
   "source": [
    "## 검색 도구 생성 "
   ]
  },
  {
   "cell_type": "code",
   "execution_count": null,
   "id": "ae80eff2",
   "metadata": {},
   "outputs": [],
   "source": [
    "from langchain.tools.retriever import create_retriever_tool\n",
    "\n",
    "retriever_tool = create_retriever_tool(\n",
    "    retriever,\n",
    "    'retrieve_blog_posts',\n",
    "    '네이버, 야후, 다음의 금융 관련 정보를 검색하고 반환합니다.'\n",
    ")\n",
    "\n",
    "tools = [retriever_tool]"
   ]
  },
  {
   "cell_type": "markdown",
   "id": "824a1837",
   "metadata": {},
   "source": [
    "## 그래프 작성"
   ]
  },
  {
   "cell_type": "code",
   "execution_count": 23,
   "id": "150d3913",
   "metadata": {},
   "outputs": [],
   "source": [
    "from langchain import hub\n",
    "from langchain_core.messages import BaseMessage, HumanMessage\n",
    "from langchain_core.output_parsers import StrOutputParser\n",
    "from langchain_core.prompts import PromptTemplate\n",
    "#from langchain_core.pydantic_v1 import BaseModel, Field\n",
    "from pydantic import BaseModel, Field\n",
    "from langchain_openai import ChatOpenAI\n",
    "from langgraph.prebuilt import tools_condition"
   ]
  },
  {
   "cell_type": "code",
   "execution_count": 25,
   "id": "d3213837",
   "metadata": {},
   "outputs": [],
   "source": [
    "#Edges \n",
    "\n",
    "def grade_documents(state):\n",
    "    \"\"\" \n",
    "    검색된 문서가 질문과 관련이 있는지 평가합니다. \n",
    "\n",
    "    Args:\n",
    "        state : 현재 상태\n",
    "    Returns :\n",
    "        str: 문서의 관련성에 따라 다음 노드 결정 (\"generate\" or \"rewrite\")\n",
    "    \"\"\"\n",
    "    print(\"----문서 관련성 평가----\")\n",
    "\n",
    "    class grade(BaseModel):\n",
    "        \"\"\"관련성 평가를 위한 이진 점수\"\"\" \n",
    "        binary_score: str = Field(description=\"관련성 점수 'yes' 또는 'no\")\n",
    "\n",
    "    model = ChatOpenAI(model='gpt-4o-mini', temperature=0, streaming=True)\n",
    "\n",
    "    llm_with_tool = model.with_structured_output(grade)\n",
    "\n",
    "    prompt = PromptTemplate(\n",
    "        template=\"\"\"당신은 사용자 질문에 대해서 검색된 문서의 관련성을 평가하는 평가자입니다.\n",
    "        여기 검색된 문서가 있습니다:\n",
    "        {context}\n",
    "        여기 사용자 질문이 있습니다:\n",
    "        {question}\n",
    "        문서가 사용자 질문과 관련된 키워드 또는 의미를 포함하면 관련성이 있다고 평가하세요. \n",
    "        문서가 질문과 관련이 있는지 여부를 나타내기 위해 'yes' 또는 'no'로 이진 점수를 주세요\n",
    "        \"\"\"\n",
    "    )\n",
    "\n",
    "    chain = prompt | llm_with_tool\n",
    "\n",
    "    messages = state['messages']\n",
    "    last_message = messages[-1]\n",
    "\n",
    "    question = messages[0].content\n",
    "    docs = last_message.content \n",
    "\n",
    "    scored_result = chain.invoke({'question': question, 'context' : docs})\n",
    "\n",
    "    score = scored_result.binary_score\n",
    "\n",
    "    if score == \"yes\":\n",
    "        print(\"--결정: 문서 관련성 있음--\")\n",
    "        return \"generate\"\n",
    "    else:\n",
    "        print(\"--결정: 문서 관련성 없음\")\n",
    "        return 'rewrite'\n",
    "    "
   ]
  },
  {
   "cell_type": "code",
   "execution_count": 32,
   "id": "6457ad42",
   "metadata": {},
   "outputs": [],
   "source": [
    "tools = [retriever_tool]\n",
    "def agent(state):\n",
    "    \"\"\"\n",
    "    현재 상태를 기반으로 에이전트 모델을 호출하여 응답을 생성합니다. \n",
    "    주어진 질문에 따라 검색 도구를 사용하여 검색을 수행하거나 단순히 종료하기로 결정합니다. \n",
    "\n",
    "    Arggs:\n",
    "        state: 현재 상태 \n",
    "    Returns:\n",
    "        dict: 메시지에 에이전트 응답이 추가된 업데이트된 상태 \n",
    "    \"\"\"\n",
    "    messages = state['messages']\n",
    "    print(\"에이전트로 전달된 메시지들: \", messages)\n",
    "    model = ChatOpenAI(model='gpt-4o-mini', temperature=0, streaming=True)\n",
    "    \n",
    "    model = model.bind_tools(tools)\n",
    "    response = model.invoke(messages)\n",
    "    state['messages'].append(response)\n",
    "    return state\n",
    "    "
   ]
  },
  {
   "cell_type": "code",
   "execution_count": 33,
   "id": "b2f8704d",
   "metadata": {},
   "outputs": [],
   "source": [
    "def rewrite(state):\n",
    "    \"\"\"\n",
    "    질문을 재작성(변형)하여 더 나은 질문을 생성합니다.\n",
    "\n",
    "    Args:\n",
    "        state (messages): 현재 상태\n",
    "\n",
    "    Returns:\n",
    "        dict: 재구성된 질문으로 업데이트된 상태\n",
    "    \"\"\"\n",
    "\n",
    "    print(\"---질문 변형---\")\n",
    "    messages = state[\"messages\"]\n",
    "    question = messages[0].content\n",
    "\n",
    "    msg = [\n",
    "        HumanMessage(\n",
    "            content=f\"\"\"다음 입력을 보고 근본적인 의도나 의미를 파악해보세요.\\n\n",
    "            초기 질문은 다음과 같습니다:\n",
    "            \\n-------\\n\n",
    "            {question}\n",
    "            \\n-------\\n\n",
    "            개선된 질문을 만들어주세요:\"\"\",\n",
    "        )\n",
    "    ]\n",
    "    # 평가자\n",
    "    model = ChatOpenAI(temperature=0, model=\"gpt-4o-mini\", streaming=True)\n",
    "    response = model.invoke(msg)\n",
    "\n",
    "    # 반환되는 메세지가 올바른지 확인 \n",
    "    print(\"Rewrite 단계에서의 응답:\", response)\n",
    "\n",
    "    # 상태 업데이트 - 기존 메시지에 새 메시지를 추가하여 상태를 업데이트\n",
    "    state[\"messages\"].append(response)\n",
    "    \n",
    "    return state"
   ]
  },
  {
   "cell_type": "code",
   "execution_count": 34,
   "id": "dadf4305",
   "metadata": {},
   "outputs": [],
   "source": [
    "def generate(state):\n",
    "    \"\"\"\n",
    "    답변 생성\n",
    "\n",
    "    Args:\n",
    "        state (messages): 현재 상태\n",
    "\n",
    "    Returns:\n",
    "         dict: 재구성된 질문으로 업데이트된 상태\n",
    "    \"\"\"\n",
    "    print(\"---생성---\")\n",
    "    messages = state[\"messages\"]\n",
    "    question = messages[0].content\n",
    "    last_message = messages[-1]\n",
    "\n",
    "    question = messages[0].content\n",
    "    docs = last_message.content\n",
    "\n",
    "    # 프롬프트\n",
    "    # prompt = hub.pull(\"rlm/rag-prompt\")\n",
    "    # 프롬프트 정의\n",
    "    prompt = PromptTemplate(\n",
    "    template=\"\"\"당신은 질문-답변 작업을 위한 어시스턴트입니다. \n",
    "    아래 제공된 문맥을 사용하여 질문에 답변해주세요. \n",
    "    답을 모를 경우 '모르겠습니다'라고 말해주세요. 답변은 최대 3문장으로 간결하게 작성하세요.\n",
    "    \n",
    "    질문: {question}\n",
    "    문맥: {context}\n",
    "    답변: \"\"\",\n",
    "    input_variables=[\"context\", \"question\"],\n",
    "    )\n",
    "\n",
    "    # LLM\n",
    "    llm = ChatOpenAI(model_name=\"gpt-3.5-turbo\", temperature=0, streaming=True)\n",
    "    \n",
    "\n",
    "    # 체인\n",
    "    rag_chain = prompt | llm | StrOutputParser()\n",
    "\n",
    "    # 실행\n",
    "    response = rag_chain.invoke({\"context\": docs, \"question\": question})\n",
    "    \n",
    "    return {\"messages\": [response]}"
   ]
  },
  {
   "cell_type": "code",
   "execution_count": 35,
   "id": "a656da09",
   "metadata": {},
   "outputs": [],
   "source": [
    "from langgraph.graph import END, StateGraph, START\n",
    "from langgraph.prebuilt import ToolNode"
   ]
  },
  {
   "cell_type": "code",
   "execution_count": 36,
   "id": "602a91ce",
   "metadata": {},
   "outputs": [],
   "source": [
    "workflow = StateGraph(AgentState)"
   ]
  },
  {
   "cell_type": "code",
   "execution_count": 37,
   "id": "a47e4b52",
   "metadata": {},
   "outputs": [],
   "source": [
    "workflow.add_node(\"agent\", agent)  # 에이전트 노드\n",
    "retrieve = ToolNode([retriever_tool])\n",
    "workflow.add_node(\"retrieve\", retrieve)  # 검색 도구 노드\n",
    "workflow.add_node(\"rewrite\", rewrite)  # 질문 재작성 노드\n",
    "workflow.add_node(\n",
    "    \"generate\", generate\n",
    ")  # 문서가 관련성이 있다고 판단된 후 응답 생성 노드\n",
    "# 에이전트 노드를 호출하여 검색을 결정합니다.\n",
    "workflow.add_edge(START, \"agent\")\n",
    "workflow.add_conditional_edges(\n",
    "    \"agent\",\n",
    "    # 에이전트 결정 평가\n",
    "    tools_condition,\n",
    "    {\n",
    "        # 조건 출력을 그래프 내 노드로 변환, 반환 값: 실행 노드\n",
    "        \"tools\": \"retrieve\",\n",
    "        END: \"generate\",\n",
    "    },\n",
    ")\n",
    "# 검색 후 문서 관련성 평가\n",
    "workflow.add_conditional_edges(\n",
    "    \"retrieve\",\n",
    "    # 에이전트 결정 평가\n",
    "    grade_documents,\n",
    "    {\n",
    "        # 조건 출력을 그래프 내 노드로 변환, 반환 값: 실행 노드\n",
    "        \"generate\" : \"generate\",\n",
    "        \"rewrite\" : \"rewrite\"\n",
    "    }\n",
    ")\n",
    "workflow.add_edge(\"generate\", END)\n",
    "workflow.add_edge(\"rewrite\", \"agent\")\n",
    "graph = workflow.compile()\n"
   ]
  },
  {
   "cell_type": "code",
   "execution_count": 39,
   "id": "8a3c45ef",
   "metadata": {},
   "outputs": [
    {
     "data": {
      "image/png": "[encoded data removed]",
      "text/plain": [
       "<IPython.core.display.Image object>"
      ]
     },
     "metadata": {},
     "output_type": "display_data"
    }
   ],
   "source": [
    "from IPython.display import Image, display\n",
    "display(Image(graph.get_graph(xray=True).draw_mermaid_png()))\n"
   ]
  },
  {
   "cell_type": "code",
   "execution_count": 44,
   "id": "50c21121",
   "metadata": {},
   "outputs": [],
   "source": [
    "import pprint \n",
    "inputs = {\n",
    "    'messages': [('user', '금리 전망') ]}\n"
   ]
  },
  {
   "cell_type": "code",
   "execution_count": 45,
   "id": "cf0bc2a9",
   "metadata": {},
   "outputs": [
    {
     "name": "stdout",
     "output_type": "stream",
     "text": [
      "에이전트로 전달된 메시지들:  [HumanMessage(content='금리 전망', additional_kwargs={}, response_metadata={}, id='17ac0fb7-441f-4956-8ad9-aee5445fdd07')]\n",
      "\"노드 'agent'의 출력 결과:\"\n",
      "'---'\n",
      "{ 'messages': [ HumanMessage(content='금리 전망', additional_kwargs={}, response_metadata={}, id='17ac0fb7-441f-4956-8ad9-aee5445fdd07'),\n",
      "                AIMessage(content='', additional_kwargs={'tool_calls': [{'index': 0, 'id': 'call_caKojpwpkOvRh4U0l4iTxYnm', 'function': {'arguments': '{\"query\":\"금리 전망\"}', 'name': 'retrieve_blog_posts'}, 'type': 'function'}]}, response_metadata={'finish_reason': 'tool_calls', 'model_name': 'gpt-4o-mini-2024-07-18', 'system_fingerprint': 'fp_34a54ae93c', 'service_tier': 'default'}, id='run--62bfa2e1-4097-4909-b93d-f460e25510a9-0', tool_calls=[{'name': 'retrieve_blog_posts', 'args': {'query': '금리 전망'}, 'id': 'call_caKojpwpkOvRh4U0l4iTxYnm', 'type': 'tool_call'}])]}\n",
      "'\\n---\\n'\n",
      "----문서 관련성 평가----\n",
      "--결정: 문서 관련성 없음\n",
      "\"노드 'retrieve'의 출력 결과:\"\n",
      "'---'\n",
      "{ 'messages': [ ToolMessage(content='금리\\n\\n금리종류에 대한 현재가,전일대비로 구분되어 있습니다.\\n\\n금리 더보기\\n\\n\\n\\n\\n유가\\n\\n유가종류에 대한 현재가,전일대비로 구분되어 있습니다.\\n\\n본문시작\\n\\n금 시세\\n\\n금 시세종류에 대한 현재가,전일대비로 구분되어 있습니다.', name='retrieve_blog_posts', id='b3115395-a643-4cd6-9bef-83469a82f975', tool_call_id='call_caKojpwpkOvRh4U0l4iTxYnm')]}\n",
      "'\\n---\\n'\n",
      "---질문 변형---\n",
      "Rewrite 단계에서의 응답: content='\"금리 전망\"이라는 초기 질문은 금리에 대한 예측이나 변화에 대한 정보를 요청하는 것으로 해석됩니다. 이를 바탕으로 개선된 질문을 만들어보면 다음과 같습니다:\\n\\n\"현재 경제 상황을 고려할 때, 향후 6개월에서 1년 사이의 금리 전망은 어떻게 될 것으로 예상되며, 그에 따른 투자 전략은 무엇이 있을까요?\" \\n\\n이 질문은 금리 전망에 대한 구체적인 기간을 설정하고, 그에 따른 투자 전략까지 포함하여 더 깊이 있는 정보를 요청하고 있습니다.' additional_kwargs={} response_metadata={'finish_reason': 'stop', 'model_name': 'gpt-4o-mini-2024-07-18', 'system_fingerprint': 'fp_34a54ae93c', 'service_tier': 'default'} id='run--35bfd8a2-89b8-4a40-a41c-7cb2548949ea-0'\n",
      "\"노드 'rewrite'의 출력 결과:\"\n",
      "'---'\n",
      "{ 'messages': [ HumanMessage(content='금리 전망', additional_kwargs={}, response_metadata={}, id='17ac0fb7-441f-4956-8ad9-aee5445fdd07'),\n",
      "                AIMessage(content='', additional_kwargs={'tool_calls': [{'index': 0, 'id': 'call_caKojpwpkOvRh4U0l4iTxYnm', 'function': {'arguments': '{\"query\":\"금리 전망\"}', 'name': 'retrieve_blog_posts'}, 'type': 'function'}]}, response_metadata={'finish_reason': 'tool_calls', 'model_name': 'gpt-4o-mini-2024-07-18', 'system_fingerprint': 'fp_34a54ae93c', 'service_tier': 'default'}, id='run--62bfa2e1-4097-4909-b93d-f460e25510a9-0', tool_calls=[{'name': 'retrieve_blog_posts', 'args': {'query': '금리 전망'}, 'id': 'call_caKojpwpkOvRh4U0l4iTxYnm', 'type': 'tool_call'}]),\n",
      "                ToolMessage(content='금리\\n\\n금리종류에 대한 현재가,전일대비로 구분되어 있습니다.\\n\\n금리 더보기\\n\\n\\n\\n\\n유가\\n\\n유가종류에 대한 현재가,전일대비로 구분되어 있습니다.\\n\\n본문시작\\n\\n금 시세\\n\\n금 시세종류에 대한 현재가,전일대비로 구분되어 있습니다.', name='retrieve_blog_posts', id='b3115395-a643-4cd6-9bef-83469a82f975', tool_call_id='call_caKojpwpkOvRh4U0l4iTxYnm'),\n",
      "                AIMessage(content='\"금리 전망\"이라는 초기 질문은 금리에 대한 예측이나 변화에 대한 정보를 요청하는 것으로 해석됩니다. 이를 바탕으로 개선된 질문을 만들어보면 다음과 같습니다:\\n\\n\"현재 경제 상황을 고려할 때, 향후 6개월에서 1년 사이의 금리 전망은 어떻게 될 것으로 예상되며, 그에 따른 투자 전략은 무엇이 있을까요?\" \\n\\n이 질문은 금리 전망에 대한 구체적인 기간을 설정하고, 그에 따른 투자 전략까지 포함하여 더 깊이 있는 정보를 요청하고 있습니다.', additional_kwargs={}, response_metadata={'finish_reason': 'stop', 'model_name': 'gpt-4o-mini-2024-07-18', 'system_fingerprint': 'fp_34a54ae93c', 'service_tier': 'default'}, id='run--35bfd8a2-89b8-4a40-a41c-7cb2548949ea-0')]}\n",
      "'\\n---\\n'\n",
      "에이전트로 전달된 메시지들:  [HumanMessage(content='금리 전망', additional_kwargs={}, response_metadata={}, id='17ac0fb7-441f-4956-8ad9-aee5445fdd07'), AIMessage(content='', additional_kwargs={'tool_calls': [{'index': 0, 'id': 'call_caKojpwpkOvRh4U0l4iTxYnm', 'function': {'arguments': '{\"query\":\"금리 전망\"}', 'name': 'retrieve_blog_posts'}, 'type': 'function'}]}, response_metadata={'finish_reason': 'tool_calls', 'model_name': 'gpt-4o-mini-2024-07-18', 'system_fingerprint': 'fp_34a54ae93c', 'service_tier': 'default'}, id='run--62bfa2e1-4097-4909-b93d-f460e25510a9-0', tool_calls=[{'name': 'retrieve_blog_posts', 'args': {'query': '금리 전망'}, 'id': 'call_caKojpwpkOvRh4U0l4iTxYnm', 'type': 'tool_call'}]), ToolMessage(content='금리\\n\\n금리종류에 대한 현재가,전일대비로 구분되어 있습니다.\\n\\n금리 더보기\\n\\n\\n\\n\\n유가\\n\\n유가종류에 대한 현재가,전일대비로 구분되어 있습니다.\\n\\n본문시작\\n\\n금 시세\\n\\n금 시세종류에 대한 현재가,전일대비로 구분되어 있습니다.', name='retrieve_blog_posts', id='b3115395-a643-4cd6-9bef-83469a82f975', tool_call_id='call_caKojpwpkOvRh4U0l4iTxYnm'), AIMessage(content='\"금리 전망\"이라는 초기 질문은 금리에 대한 예측이나 변화에 대한 정보를 요청하는 것으로 해석됩니다. 이를 바탕으로 개선된 질문을 만들어보면 다음과 같습니다:\\n\\n\"현재 경제 상황을 고려할 때, 향후 6개월에서 1년 사이의 금리 전망은 어떻게 될 것으로 예상되며, 그에 따른 투자 전략은 무엇이 있을까요?\" \\n\\n이 질문은 금리 전망에 대한 구체적인 기간을 설정하고, 그에 따른 투자 전략까지 포함하여 더 깊이 있는 정보를 요청하고 있습니다.', additional_kwargs={}, response_metadata={'finish_reason': 'stop', 'model_name': 'gpt-4o-mini-2024-07-18', 'system_fingerprint': 'fp_34a54ae93c', 'service_tier': 'default'}, id='run--35bfd8a2-89b8-4a40-a41c-7cb2548949ea-0')]\n",
      "\"노드 'agent'의 출력 결과:\"\n",
      "'---'\n",
      "{ 'messages': [ HumanMessage(content='금리 전망', additional_kwargs={}, response_metadata={}, id='17ac0fb7-441f-4956-8ad9-aee5445fdd07'),\n",
      "                AIMessage(content='', additional_kwargs={'tool_calls': [{'index': 0, 'id': 'call_caKojpwpkOvRh4U0l4iTxYnm', 'function': {'arguments': '{\"query\":\"금리 전망\"}', 'name': 'retrieve_blog_posts'}, 'type': 'function'}]}, response_metadata={'finish_reason': 'tool_calls', 'model_name': 'gpt-4o-mini-2024-07-18', 'system_fingerprint': 'fp_34a54ae93c', 'service_tier': 'default'}, id='run--62bfa2e1-4097-4909-b93d-f460e25510a9-0', tool_calls=[{'name': 'retrieve_blog_posts', 'args': {'query': '금리 전망'}, 'id': 'call_caKojpwpkOvRh4U0l4iTxYnm', 'type': 'tool_call'}]),\n",
      "                ToolMessage(content='금리\\n\\n금리종류에 대한 현재가,전일대비로 구분되어 있습니다.\\n\\n금리 더보기\\n\\n\\n\\n\\n유가\\n\\n유가종류에 대한 현재가,전일대비로 구분되어 있습니다.\\n\\n본문시작\\n\\n금 시세\\n\\n금 시세종류에 대한 현재가,전일대비로 구분되어 있습니다.', name='retrieve_blog_posts', id='b3115395-a643-4cd6-9bef-83469a82f975', tool_call_id='call_caKojpwpkOvRh4U0l4iTxYnm'),\n",
      "                AIMessage(content='\"금리 전망\"이라는 초기 질문은 금리에 대한 예측이나 변화에 대한 정보를 요청하는 것으로 해석됩니다. 이를 바탕으로 개선된 질문을 만들어보면 다음과 같습니다:\\n\\n\"현재 경제 상황을 고려할 때, 향후 6개월에서 1년 사이의 금리 전망은 어떻게 될 것으로 예상되며, 그에 따른 투자 전략은 무엇이 있을까요?\" \\n\\n이 질문은 금리 전망에 대한 구체적인 기간을 설정하고, 그에 따른 투자 전략까지 포함하여 더 깊이 있는 정보를 요청하고 있습니다.', additional_kwargs={}, response_metadata={'finish_reason': 'stop', 'model_name': 'gpt-4o-mini-2024-07-18', 'system_fingerprint': 'fp_34a54ae93c', 'service_tier': 'default'}, id='run--35bfd8a2-89b8-4a40-a41c-7cb2548949ea-0'),\n",
      "                AIMessage(content='', additional_kwargs={'tool_calls': [{'index': 0, 'id': 'call_w4mEEP9xqZnpHkTRcMVxKllm', 'function': {'arguments': '{\"query\":\"금리 전망 2024\"}', 'name': 'retrieve_blog_posts'}, 'type': 'function'}]}, response_metadata={'finish_reason': 'tool_calls', 'model_name': 'gpt-4o-mini-2024-07-18', 'system_fingerprint': 'fp_34a54ae93c', 'service_tier': 'default'}, id='run--f1d5c816-a418-4e52-87a8-d8b31a6c6582-0', tool_calls=[{'name': 'retrieve_blog_posts', 'args': {'query': '금리 전망 2024'}, 'id': 'call_w4mEEP9xqZnpHkTRcMVxKllm', 'type': 'tool_call'}])]}\n",
      "'\\n---\\n'\n",
      "----문서 관련성 평가----\n",
      "--결정: 문서 관련성 없음\n",
      "\"노드 'retrieve'의 출력 결과:\"\n",
      "'---'\n",
      "{ 'messages': [ ToolMessage(content='금리\\n\\n금리종류에 대한 현재가,전일대비로 구분되어 있습니다.\\n\\n금리 더보기\\n\\n\\n\\n\\n유가\\n\\n유가종류에 대한 현재가,전일대비로 구분되어 있습니다.\\n\\n환전 고시 환율통화명에 대한 현재가,전일대비로 구분되어 있습니다.\\n\\n회사채(3년)(08.06)\\n2.91\\n보합\\n\\n\\n\\n금리 더보기\\n\\n\\n\\n\\n유가', name='retrieve_blog_posts', id='5b1eff22-12bd-49e5-adbe-16198985870b', tool_call_id='call_w4mEEP9xqZnpHkTRcMVxKllm')]}\n",
      "'\\n---\\n'\n",
      "---질문 변형---\n",
      "Rewrite 단계에서의 응답: content='\"금리 전망\"이라는 초기 질문은 금리에 대한 예측이나 변화에 대한 정보를 요청하는 것으로 보입니다. 이를 바탕으로 좀 더 구체적이고 명확한 질문으로 개선할 수 있습니다. 예를 들어:\\n\\n\"현재 경제 상황을 고려할 때, 향후 6개월에서 1년 사이의 금리 전망은 어떻게 될 것으로 예상되며, 그에 따른 투자 전략은 무엇이 있을까요?\"\\n\\n이렇게 질문을 개선하면 금리 전망에 대한 구체적인 기간과 관련된 투자 전략까지 포함하여 더 깊이 있는 정보를 요청할 수 있습니다.' additional_kwargs={} response_metadata={'finish_reason': 'stop', 'model_name': 'gpt-4o-mini-2024-07-18', 'system_fingerprint': 'fp_34a54ae93c', 'service_tier': 'default'} id='run--0806ec68-76c9-40fc-adc3-009267ea2e76-0'\n",
      "\"노드 'rewrite'의 출력 결과:\"\n",
      "'---'\n",
      "{ 'messages': [ HumanMessage(content='금리 전망', additional_kwargs={}, response_metadata={}, id='17ac0fb7-441f-4956-8ad9-aee5445fdd07'),\n",
      "                AIMessage(content='', additional_kwargs={'tool_calls': [{'index': 0, 'id': 'call_caKojpwpkOvRh4U0l4iTxYnm', 'function': {'arguments': '{\"query\":\"금리 전망\"}', 'name': 'retrieve_blog_posts'}, 'type': 'function'}]}, response_metadata={'finish_reason': 'tool_calls', 'model_name': 'gpt-4o-mini-2024-07-18', 'system_fingerprint': 'fp_34a54ae93c', 'service_tier': 'default'}, id='run--62bfa2e1-4097-4909-b93d-f460e25510a9-0', tool_calls=[{'name': 'retrieve_blog_posts', 'args': {'query': '금리 전망'}, 'id': 'call_caKojpwpkOvRh4U0l4iTxYnm', 'type': 'tool_call'}]),\n",
      "                ToolMessage(content='금리\\n\\n금리종류에 대한 현재가,전일대비로 구분되어 있습니다.\\n\\n금리 더보기\\n\\n\\n\\n\\n유가\\n\\n유가종류에 대한 현재가,전일대비로 구분되어 있습니다.\\n\\n본문시작\\n\\n금 시세\\n\\n금 시세종류에 대한 현재가,전일대비로 구분되어 있습니다.', name='retrieve_blog_posts', id='b3115395-a643-4cd6-9bef-83469a82f975', tool_call_id='call_caKojpwpkOvRh4U0l4iTxYnm'),\n",
      "                AIMessage(content='\"금리 전망\"이라는 초기 질문은 금리에 대한 예측이나 변화에 대한 정보를 요청하는 것으로 해석됩니다. 이를 바탕으로 개선된 질문을 만들어보면 다음과 같습니다:\\n\\n\"현재 경제 상황을 고려할 때, 향후 6개월에서 1년 사이의 금리 전망은 어떻게 될 것으로 예상되며, 그에 따른 투자 전략은 무엇이 있을까요?\" \\n\\n이 질문은 금리 전망에 대한 구체적인 기간을 설정하고, 그에 따른 투자 전략까지 포함하여 더 깊이 있는 정보를 요청하고 있습니다.', additional_kwargs={}, response_metadata={'finish_reason': 'stop', 'model_name': 'gpt-4o-mini-2024-07-18', 'system_fingerprint': 'fp_34a54ae93c', 'service_tier': 'default'}, id='run--35bfd8a2-89b8-4a40-a41c-7cb2548949ea-0'),\n",
      "                AIMessage(content='', additional_kwargs={'tool_calls': [{'index': 0, 'id': 'call_w4mEEP9xqZnpHkTRcMVxKllm', 'function': {'arguments': '{\"query\":\"금리 전망 2024\"}', 'name': 'retrieve_blog_posts'}, 'type': 'function'}]}, response_metadata={'finish_reason': 'tool_calls', 'model_name': 'gpt-4o-mini-2024-07-18', 'system_fingerprint': 'fp_34a54ae93c', 'service_tier': 'default'}, id='run--f1d5c816-a418-4e52-87a8-d8b31a6c6582-0', tool_calls=[{'name': 'retrieve_blog_posts', 'args': {'query': '금리 전망 2024'}, 'id': 'call_w4mEEP9xqZnpHkTRcMVxKllm', 'type': 'tool_call'}]),\n",
      "                ToolMessage(content='금리\\n\\n금리종류에 대한 현재가,전일대비로 구분되어 있습니다.\\n\\n금리 더보기\\n\\n\\n\\n\\n유가\\n\\n유가종류에 대한 현재가,전일대비로 구분되어 있습니다.\\n\\n환전 고시 환율통화명에 대한 현재가,전일대비로 구분되어 있습니다.\\n\\n회사채(3년)(08.06)\\n2.91\\n보합\\n\\n\\n\\n금리 더보기\\n\\n\\n\\n\\n유가', name='retrieve_blog_posts', id='5b1eff22-12bd-49e5-adbe-16198985870b', tool_call_id='call_w4mEEP9xqZnpHkTRcMVxKllm'),\n",
      "                AIMessage(content='\"금리 전망\"이라는 초기 질문은 금리에 대한 예측이나 변화에 대한 정보를 요청하는 것으로 보입니다. 이를 바탕으로 좀 더 구체적이고 명확한 질문으로 개선할 수 있습니다. 예를 들어:\\n\\n\"현재 경제 상황을 고려할 때, 향후 6개월에서 1년 사이의 금리 전망은 어떻게 될 것으로 예상되며, 그에 따른 투자 전략은 무엇이 있을까요?\"\\n\\n이렇게 질문을 개선하면 금리 전망에 대한 구체적인 기간과 관련된 투자 전략까지 포함하여 더 깊이 있는 정보를 요청할 수 있습니다.', additional_kwargs={}, response_metadata={'finish_reason': 'stop', 'model_name': 'gpt-4o-mini-2024-07-18', 'system_fingerprint': 'fp_34a54ae93c', 'service_tier': 'default'}, id='run--0806ec68-76c9-40fc-adc3-009267ea2e76-0')]}\n",
      "'\\n---\\n'\n",
      "에이전트로 전달된 메시지들:  [HumanMessage(content='금리 전망', additional_kwargs={}, response_metadata={}, id='17ac0fb7-441f-4956-8ad9-aee5445fdd07'), AIMessage(content='', additional_kwargs={'tool_calls': [{'index': 0, 'id': 'call_caKojpwpkOvRh4U0l4iTxYnm', 'function': {'arguments': '{\"query\":\"금리 전망\"}', 'name': 'retrieve_blog_posts'}, 'type': 'function'}]}, response_metadata={'finish_reason': 'tool_calls', 'model_name': 'gpt-4o-mini-2024-07-18', 'system_fingerprint': 'fp_34a54ae93c', 'service_tier': 'default'}, id='run--62bfa2e1-4097-4909-b93d-f460e25510a9-0', tool_calls=[{'name': 'retrieve_blog_posts', 'args': {'query': '금리 전망'}, 'id': 'call_caKojpwpkOvRh4U0l4iTxYnm', 'type': 'tool_call'}]), ToolMessage(content='금리\\n\\n금리종류에 대한 현재가,전일대비로 구분되어 있습니다.\\n\\n금리 더보기\\n\\n\\n\\n\\n유가\\n\\n유가종류에 대한 현재가,전일대비로 구분되어 있습니다.\\n\\n본문시작\\n\\n금 시세\\n\\n금 시세종류에 대한 현재가,전일대비로 구분되어 있습니다.', name='retrieve_blog_posts', id='b3115395-a643-4cd6-9bef-83469a82f975', tool_call_id='call_caKojpwpkOvRh4U0l4iTxYnm'), AIMessage(content='\"금리 전망\"이라는 초기 질문은 금리에 대한 예측이나 변화에 대한 정보를 요청하는 것으로 해석됩니다. 이를 바탕으로 개선된 질문을 만들어보면 다음과 같습니다:\\n\\n\"현재 경제 상황을 고려할 때, 향후 6개월에서 1년 사이의 금리 전망은 어떻게 될 것으로 예상되며, 그에 따른 투자 전략은 무엇이 있을까요?\" \\n\\n이 질문은 금리 전망에 대한 구체적인 기간을 설정하고, 그에 따른 투자 전략까지 포함하여 더 깊이 있는 정보를 요청하고 있습니다.', additional_kwargs={}, response_metadata={'finish_reason': 'stop', 'model_name': 'gpt-4o-mini-2024-07-18', 'system_fingerprint': 'fp_34a54ae93c', 'service_tier': 'default'}, id='run--35bfd8a2-89b8-4a40-a41c-7cb2548949ea-0'), AIMessage(content='', additional_kwargs={'tool_calls': [{'index': 0, 'id': 'call_w4mEEP9xqZnpHkTRcMVxKllm', 'function': {'arguments': '{\"query\":\"금리 전망 2024\"}', 'name': 'retrieve_blog_posts'}, 'type': 'function'}]}, response_metadata={'finish_reason': 'tool_calls', 'model_name': 'gpt-4o-mini-2024-07-18', 'system_fingerprint': 'fp_34a54ae93c', 'service_tier': 'default'}, id='run--f1d5c816-a418-4e52-87a8-d8b31a6c6582-0', tool_calls=[{'name': 'retrieve_blog_posts', 'args': {'query': '금리 전망 2024'}, 'id': 'call_w4mEEP9xqZnpHkTRcMVxKllm', 'type': 'tool_call'}]), ToolMessage(content='금리\\n\\n금리종류에 대한 현재가,전일대비로 구분되어 있습니다.\\n\\n금리 더보기\\n\\n\\n\\n\\n유가\\n\\n유가종류에 대한 현재가,전일대비로 구분되어 있습니다.\\n\\n환전 고시 환율통화명에 대한 현재가,전일대비로 구분되어 있습니다.\\n\\n회사채(3년)(08.06)\\n2.91\\n보합\\n\\n\\n\\n금리 더보기\\n\\n\\n\\n\\n유가', name='retrieve_blog_posts', id='5b1eff22-12bd-49e5-adbe-16198985870b', tool_call_id='call_w4mEEP9xqZnpHkTRcMVxKllm'), AIMessage(content='\"금리 전망\"이라는 초기 질문은 금리에 대한 예측이나 변화에 대한 정보를 요청하는 것으로 보입니다. 이를 바탕으로 좀 더 구체적이고 명확한 질문으로 개선할 수 있습니다. 예를 들어:\\n\\n\"현재 경제 상황을 고려할 때, 향후 6개월에서 1년 사이의 금리 전망은 어떻게 될 것으로 예상되며, 그에 따른 투자 전략은 무엇이 있을까요?\"\\n\\n이렇게 질문을 개선하면 금리 전망에 대한 구체적인 기간과 관련된 투자 전략까지 포함하여 더 깊이 있는 정보를 요청할 수 있습니다.', additional_kwargs={}, response_metadata={'finish_reason': 'stop', 'model_name': 'gpt-4o-mini-2024-07-18', 'system_fingerprint': 'fp_34a54ae93c', 'service_tier': 'default'}, id='run--0806ec68-76c9-40fc-adc3-009267ea2e76-0')]\n",
      "\"노드 'agent'의 출력 결과:\"\n",
      "'---'\n",
      "{ 'messages': [ HumanMessage(content='금리 전망', additional_kwargs={}, response_metadata={}, id='17ac0fb7-441f-4956-8ad9-aee5445fdd07'),\n",
      "                AIMessage(content='', additional_kwargs={'tool_calls': [{'index': 0, 'id': 'call_caKojpwpkOvRh4U0l4iTxYnm', 'function': {'arguments': '{\"query\":\"금리 전망\"}', 'name': 'retrieve_blog_posts'}, 'type': 'function'}]}, response_metadata={'finish_reason': 'tool_calls', 'model_name': 'gpt-4o-mini-2024-07-18', 'system_fingerprint': 'fp_34a54ae93c', 'service_tier': 'default'}, id='run--62bfa2e1-4097-4909-b93d-f460e25510a9-0', tool_calls=[{'name': 'retrieve_blog_posts', 'args': {'query': '금리 전망'}, 'id': 'call_caKojpwpkOvRh4U0l4iTxYnm', 'type': 'tool_call'}]),\n",
      "                ToolMessage(content='금리\\n\\n금리종류에 대한 현재가,전일대비로 구분되어 있습니다.\\n\\n금리 더보기\\n\\n\\n\\n\\n유가\\n\\n유가종류에 대한 현재가,전일대비로 구분되어 있습니다.\\n\\n본문시작\\n\\n금 시세\\n\\n금 시세종류에 대한 현재가,전일대비로 구분되어 있습니다.', name='retrieve_blog_posts', id='b3115395-a643-4cd6-9bef-83469a82f975', tool_call_id='call_caKojpwpkOvRh4U0l4iTxYnm'),\n",
      "                AIMessage(content='\"금리 전망\"이라는 초기 질문은 금리에 대한 예측이나 변화에 대한 정보를 요청하는 것으로 해석됩니다. 이를 바탕으로 개선된 질문을 만들어보면 다음과 같습니다:\\n\\n\"현재 경제 상황을 고려할 때, 향후 6개월에서 1년 사이의 금리 전망은 어떻게 될 것으로 예상되며, 그에 따른 투자 전략은 무엇이 있을까요?\" \\n\\n이 질문은 금리 전망에 대한 구체적인 기간을 설정하고, 그에 따른 투자 전략까지 포함하여 더 깊이 있는 정보를 요청하고 있습니다.', additional_kwargs={}, response_metadata={'finish_reason': 'stop', 'model_name': 'gpt-4o-mini-2024-07-18', 'system_fingerprint': 'fp_34a54ae93c', 'service_tier': 'default'}, id='run--35bfd8a2-89b8-4a40-a41c-7cb2548949ea-0'),\n",
      "                AIMessage(content='', additional_kwargs={'tool_calls': [{'index': 0, 'id': 'call_w4mEEP9xqZnpHkTRcMVxKllm', 'function': {'arguments': '{\"query\":\"금리 전망 2024\"}', 'name': 'retrieve_blog_posts'}, 'type': 'function'}]}, response_metadata={'finish_reason': 'tool_calls', 'model_name': 'gpt-4o-mini-2024-07-18', 'system_fingerprint': 'fp_34a54ae93c', 'service_tier': 'default'}, id='run--f1d5c816-a418-4e52-87a8-d8b31a6c6582-0', tool_calls=[{'name': 'retrieve_blog_posts', 'args': {'query': '금리 전망 2024'}, 'id': 'call_w4mEEP9xqZnpHkTRcMVxKllm', 'type': 'tool_call'}]),\n",
      "                ToolMessage(content='금리\\n\\n금리종류에 대한 현재가,전일대비로 구분되어 있습니다.\\n\\n금리 더보기\\n\\n\\n\\n\\n유가\\n\\n유가종류에 대한 현재가,전일대비로 구분되어 있습니다.\\n\\n환전 고시 환율통화명에 대한 현재가,전일대비로 구분되어 있습니다.\\n\\n회사채(3년)(08.06)\\n2.91\\n보합\\n\\n\\n\\n금리 더보기\\n\\n\\n\\n\\n유가', name='retrieve_blog_posts', id='5b1eff22-12bd-49e5-adbe-16198985870b', tool_call_id='call_w4mEEP9xqZnpHkTRcMVxKllm'),\n",
      "                AIMessage(content='\"금리 전망\"이라는 초기 질문은 금리에 대한 예측이나 변화에 대한 정보를 요청하는 것으로 보입니다. 이를 바탕으로 좀 더 구체적이고 명확한 질문으로 개선할 수 있습니다. 예를 들어:\\n\\n\"현재 경제 상황을 고려할 때, 향후 6개월에서 1년 사이의 금리 전망은 어떻게 될 것으로 예상되며, 그에 따른 투자 전략은 무엇이 있을까요?\"\\n\\n이렇게 질문을 개선하면 금리 전망에 대한 구체적인 기간과 관련된 투자 전략까지 포함하여 더 깊이 있는 정보를 요청할 수 있습니다.', additional_kwargs={}, response_metadata={'finish_reason': 'stop', 'model_name': 'gpt-4o-mini-2024-07-18', 'system_fingerprint': 'fp_34a54ae93c', 'service_tier': 'default'}, id='run--0806ec68-76c9-40fc-adc3-009267ea2e76-0'),\n",
      "                AIMessage(content='현재 \"금리 전망\"에 대한 구체적인 정보는 찾을 수 없었습니다. 하지만 일반적으로 금리 전망은 경제 지표, 중앙은행의 정책, 인플레이션, 고용률 등 여러 요인에 따라 달라질 수 있습니다.\\n\\n금리에 대한 전망을 알고 싶으시다면, 최근 경제 뉴스나 금융 전문가의 의견을 참고하는 것이 좋습니다. 추가적으로 궁금한 점이나 특정한 질문이 있으시면 말씀해 주세요!', additional_kwargs={}, response_metadata={'finish_reason': 'stop', 'model_name': 'gpt-4o-mini-2024-07-18', 'system_fingerprint': 'fp_34a54ae93c', 'service_tier': 'default'}, id='run--840def43-f1d7-4772-82c0-522529b0f87d-0')]}\n",
      "'\\n---\\n'\n",
      "---생성---\n",
      "\"노드 'generate'의 출력 결과:\"\n",
      "'---'\n",
      "{ 'messages': [ '금리에 대한 전망은 다양한 요인에 따라 변동할 수 있습니다. 최신 경제 뉴스나 전문가의 의견을 참고하시면 '\n",
      "                '도움이 될 수 있습니다. 추가 질문이 있으시면 언제든지 물어보세요!']}\n",
      "'\\n---\\n'\n"
     ]
    }
   ],
   "source": [
    "for output in graph.stream(inputs):\n",
    "    for key, value in output.items():\n",
    "        pprint.pprint(f\"노드 '{key}'의 출력 결과:\")\n",
    "        pprint.pprint(\"---\")\n",
    "        pprint.pprint(value, indent=2, width=80, depth=None)\n",
    "    pprint.pprint(\"\\n---\\n\")"
   ]
  },
  {
   "cell_type": "code",
   "execution_count": null,
   "id": "be1439a3",
   "metadata": {},
   "outputs": [],
   "source": []
  },
  {
   "cell_type": "code",
   "execution_count": null,
   "id": "b163a40c",
   "metadata": {},
   "outputs": [],
   "source": []
  },
  {
   "cell_type": "code",
   "execution_count": null,
   "id": "ab060f74",
   "metadata": {},
   "outputs": [],
   "source": []
  },
  {
   "cell_type": "code",
   "execution_count": null,
   "id": "b48e5934",
   "metadata": {},
   "outputs": [],
   "source": []
  },
  {
   "cell_type": "code",
   "execution_count": null,
   "id": "79b4a2c0",
   "metadata": {},
   "outputs": [],
   "source": []
  }
 ],
 "metadata": {
  "kernelspec": {
   "display_name": "openai",
   "language": "python",
   "name": "python3"
  },
  "language_info": {
   "codemirror_mode": {
    "name": "ipython",
    "version": 3
   },
   "file_extension": ".py",
   "mimetype": "text/x-python",
   "name": "python",
   "nbconvert_exporter": "python",
   "pygments_lexer": "ipython3",
   "version": "3.12.11"
  }
 },
 "nbformat": 4,
 "nbformat_minor": 5
}
